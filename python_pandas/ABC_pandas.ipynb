{
 "cells": [
  {
   "cell_type": "markdown",
   "id": "dfa55c48",
   "metadata": {
    "toc": true
   },
   "source": [
    "<h1>Table of Contents<span class=\"tocSkip\"></span></h1>\n",
    "<div class=\"toc\"><ul class=\"toc-item\"><li><span><a href=\"#Подготовка-данных\" data-toc-modified-id=\"Подготовка-данных-1\"><span class=\"toc-item-num\">1&nbsp;&nbsp;</span>Подготовка данных</a></span></li><li><span><a href=\"#АВС-анализ\" data-toc-modified-id=\"АВС-анализ-2\"><span class=\"toc-item-num\">2&nbsp;&nbsp;</span>АВС-анализ</a></span><ul class=\"toc-item\"><li><span><a href=\"#Одномерный-(по-количеству)\" data-toc-modified-id=\"Одномерный-(по-количеству)-2.1\"><span class=\"toc-item-num\">2.1&nbsp;&nbsp;</span>Одномерный (по количеству)</a></span></li><li><span><a href=\"#Многомерный\" data-toc-modified-id=\"Многомерный-2.2\"><span class=\"toc-item-num\">2.2&nbsp;&nbsp;</span>Многомерный</a></span></li><li><span><a href=\"#Визуализация-групп\" data-toc-modified-id=\"Визуализация-групп-2.3\"><span class=\"toc-item-num\">2.3&nbsp;&nbsp;</span>Визуализация групп</a></span></li></ul></li><li><span><a href=\"#Выводы-и-рекомендации\" data-toc-modified-id=\"Выводы-и-рекомендации-3\"><span class=\"toc-item-num\">3&nbsp;&nbsp;</span>Выводы и рекомендации</a></span><ul class=\"toc-item\"><li><span><a href=\"#Группа-A**\" data-toc-modified-id=\"Группа-A**-3.1\"><span class=\"toc-item-num\">3.1&nbsp;&nbsp;</span>Группа A**</a></span></li><li><span><a href=\"#группа-B**\" data-toc-modified-id=\"группа-B**-3.2\"><span class=\"toc-item-num\">3.2&nbsp;&nbsp;</span>группа B**</a></span></li><li><span><a href=\"#группа-C**\" data-toc-modified-id=\"группа-C**-3.3\"><span class=\"toc-item-num\">3.3&nbsp;&nbsp;</span>группа C**</a></span></li></ul></li></ul></div>"
   ]
  },
  {
   "cell_type": "markdown",
   "id": "7b263357",
   "metadata": {},
   "source": [
    "__Импорты и функции__"
   ]
  },
  {
   "cell_type": "code",
   "execution_count": 42,
   "id": "d256a304",
   "metadata": {
    "ExecuteTime": {
     "end_time": "2024-01-15T07:59:40.651000Z",
     "start_time": "2024-01-15T07:59:40.622122Z"
    }
   },
   "outputs": [],
   "source": [
    "import pandas as pd\n",
    "import numpy as np\n",
    "import plotly.express as px\n",
    "\n",
    "#dataset settings\n",
    "pd.set_option('display.max_columns', 100) #макс кол-во колонок в выводимых данных \n",
    "pd.set_option('display.max_rows', 30) #макс кол-во строк в выводимых данных\n",
    "pd.set_option('display.width', 60) #макс кол-во символов в строке\n",
    "\n",
    "#warnings and other settings\n",
    "import warnings\n",
    "warnings.filterwarnings(\"ignore\", category=RuntimeWarning)\n",
    "warnings.simplefilter('ignore')\n",
    "pd.options.mode.chained_assignment = None"
   ]
  },
  {
   "cell_type": "markdown",
   "id": "6b5fe885",
   "metadata": {},
   "source": [
    "Для многомерного `АВС-анализа` напишем и будем использовать эту функцию: "
   ]
  },
  {
   "cell_type": "code",
   "execution_count": 43,
   "id": "07029da9",
   "metadata": {
    "ExecuteTime": {
     "end_time": "2024-01-15T07:59:40.661277Z",
     "start_time": "2024-01-15T07:59:40.651000Z"
    }
   },
   "outputs": [],
   "source": [
    "def abc_multi_func(dataset, columns, a_limit=0.8, b_limit=0.95): \n",
    "    '''\n",
    "    Функция принимает на вход pandas DataFrame и список столбцов, \n",
    "    а также опциональные параметры, устанавливающие границы для категорий. \n",
    "    \n",
    "    Функция возвращает pandas DataFrame с указанием категории АВС для каждого \n",
    "    из столбцов, по которому проводился анализ. \n",
    "    \n",
    "    Для каждого столбца выполняет следующие операции:\n",
    "    1. Создает новый столбец \"relative_{column}\", содержащий относительные \n",
    "    значения каждой ячейки в столбце относительно суммы всех значений в этом столбце.\n",
    "    2. Сортирует датасет по этому новому столбцу по убыванию.\n",
    "    3. Создает новый столбец \"cumsum_{column}\", содержащий накопленные суммы значений \n",
    "    из столбца \"relative_{column}\".\n",
    "    4. Создает новый столбец \"abc_{column}\", присваивая значения 'A', 'B' или 'C' \n",
    "    в зависимости от кумулятивной суммы в столбце \"cumsum_{column}\" и \n",
    "    пороговых значений a_limit и b_limit.\n",
    "    5. Формирует итоговый индекс ABC, состоящий из индексов по каждому направлению анализа\n",
    "    \n",
    "    Args:\n",
    "    - dataset: pandas DataFrame, входной датасет\n",
    "    - columns: list, список столбцов, для которых необходимо выполнить операции\n",
    "    - a_limit: float, опциональный параметр, пороговое значение для класса A (по умолчанию 0.8)\n",
    "    - b_limit: float, опциональный параметр, пороговое значение для класса B (по умолчанию 0.95)\n",
    "    \n",
    "    Returns:\n",
    "    - pandas DataFrame \n",
    "    \n",
    "    '''\n",
    "    \n",
    "    dataset['ABC'] = ''\n",
    "    \n",
    "    for column in columns: \n",
    "        \n",
    "        dataset[f'relative_{column}'] = dataset[column] / dataset[column].sum()\n",
    "        \n",
    "        dataset = dataset.sort_values(by=f'relative_{column}', ascending=False)\n",
    "        \n",
    "        dataset[f'cumsum_{column}'] = dataset[f'relative_{column}'].cumsum()\n",
    "        \n",
    "        dataset[f'abc_{column}'] = np.where(\n",
    "            dataset[f'cumsum_{column}'] < a_limit, 'A', \n",
    "            np.where(\n",
    "                dataset[f'cumsum_{column}'] < b_limit, 'B', 'C'\n",
    "            )\n",
    "        )\n",
    "        \n",
    "        dataset['ABC'] += dataset[f'abc_{column}']\n",
    "    \n",
    "    return dataset"
   ]
  },
  {
   "cell_type": "markdown",
   "id": "07a805ac",
   "metadata": {},
   "source": [
    "Зададим порог отнесения к группам. "
   ]
  },
  {
   "cell_type": "code",
   "execution_count": 44,
   "id": "44b62d86",
   "metadata": {
    "ExecuteTime": {
     "end_time": "2024-01-15T07:59:40.680944Z",
     "start_time": "2024-01-15T07:59:40.661277Z"
    }
   },
   "outputs": [],
   "source": [
    "A_LIMIT = 0.80\n",
    "B_LIMIT = 0.95"
   ]
  },
  {
   "cell_type": "markdown",
   "id": "03564aea",
   "metadata": {},
   "source": [
    "## Подготовка данных"
   ]
  },
  {
   "cell_type": "code",
   "execution_count": 45,
   "id": "af4d9a25",
   "metadata": {
    "ExecuteTime": {
     "end_time": "2024-01-15T07:59:40.761014Z",
     "start_time": "2024-01-15T07:59:40.680944Z"
    }
   },
   "outputs": [
    {
     "data": {
      "text/html": [
       "<div>\n",
       "<style scoped>\n",
       "    .dataframe tbody tr th:only-of-type {\n",
       "        vertical-align: middle;\n",
       "    }\n",
       "\n",
       "    .dataframe tbody tr th {\n",
       "        vertical-align: top;\n",
       "    }\n",
       "\n",
       "    .dataframe thead th {\n",
       "        text-align: right;\n",
       "    }\n",
       "</style>\n",
       "<table border=\"1\" class=\"dataframe\">\n",
       "  <thead>\n",
       "    <tr style=\"text-align: right;\">\n",
       "      <th></th>\n",
       "      <th>extgroup_name</th>\n",
       "      <th>subgroup_name</th>\n",
       "      <th>article_name</th>\n",
       "      <th>total_quantity</th>\n",
       "      <th>gross_sales</th>\n",
       "    </tr>\n",
       "  </thead>\n",
       "  <tbody>\n",
       "    <tr>\n",
       "      <th>0</th>\n",
       "      <td>Catalog SPB</td>\n",
       "      <td>Винная карта</td>\n",
       "      <td>\"Маэстро\" Саперави Бадагони п/сл 0,75</td>\n",
       "      <td>57</td>\n",
       "      <td>136885</td>\n",
       "    </tr>\n",
       "    <tr>\n",
       "      <th>1</th>\n",
       "      <td>Catalog SPB</td>\n",
       "      <td>Винная карта</td>\n",
       "      <td>\"Парфюм д'Эте Шато Мухрани 0.75</td>\n",
       "      <td>9</td>\n",
       "      <td>27435</td>\n",
       "    </tr>\n",
       "    <tr>\n",
       "      <th>2</th>\n",
       "      <td>Catalog SPB</td>\n",
       "      <td>Чайный мастер</td>\n",
       "      <td>1000 мл Бисмарк</td>\n",
       "      <td>163</td>\n",
       "      <td>112470</td>\n",
       "    </tr>\n",
       "    <tr>\n",
       "      <th>3</th>\n",
       "      <td>Catalog SPB</td>\n",
       "      <td>Чайный мастер</td>\n",
       "      <td>1000 мл Иван Чай</td>\n",
       "      <td>5</td>\n",
       "      <td>2450</td>\n",
       "    </tr>\n",
       "    <tr>\n",
       "      <th>4</th>\n",
       "      <td>Catalog SPB</td>\n",
       "      <td>Чайный мастер</td>\n",
       "      <td>1000 мл Легенда Осени</td>\n",
       "      <td>39</td>\n",
       "      <td>29214</td>\n",
       "    </tr>\n",
       "  </tbody>\n",
       "</table>\n",
       "</div>"
      ],
      "text/plain": [
       "  extgroup_name  subgroup_name  \\\n",
       "0   Catalog SPB   Винная карта   \n",
       "1   Catalog SPB   Винная карта   \n",
       "2   Catalog SPB  Чайный мастер   \n",
       "3   Catalog SPB  Чайный мастер   \n",
       "4   Catalog SPB  Чайный мастер   \n",
       "\n",
       "                            article_name  total_quantity  \\\n",
       "0  \"Маэстро\" Саперави Бадагони п/сл 0,75              57   \n",
       "1        \"Парфюм д'Эте Шато Мухрани 0.75               9   \n",
       "2                        1000 мл Бисмарк             163   \n",
       "3                       1000 мл Иван Чай               5   \n",
       "4                  1000 мл Легенда Осени              39   \n",
       "\n",
       "   gross_sales  \n",
       "0       136885  \n",
       "1        27435  \n",
       "2       112470  \n",
       "3         2450  \n",
       "4        29214  "
      ]
     },
     "execution_count": 45,
     "metadata": {},
     "output_type": "execute_result"
    }
   ],
   "source": [
    "df = pd.read_excel('spb_cat_sales.xlsx')\n",
    "df.head()"
   ]
  },
  {
   "cell_type": "code",
   "execution_count": 46,
   "id": "27d12aaa",
   "metadata": {
    "ExecuteTime": {
     "end_time": "2024-01-15T07:59:40.781143Z",
     "start_time": "2024-01-15T07:59:40.761014Z"
    }
   },
   "outputs": [
    {
     "data": {
      "text/plain": [
       "extgroup_name     0\n",
       "subgroup_name     0\n",
       "article_name      0\n",
       "total_quantity    0\n",
       "gross_sales       0\n",
       "dtype: int64"
      ]
     },
     "execution_count": 46,
     "metadata": {},
     "output_type": "execute_result"
    }
   ],
   "source": [
    "df.isna().sum()"
   ]
  },
  {
   "cell_type": "code",
   "execution_count": 47,
   "id": "0b47190f",
   "metadata": {
    "ExecuteTime": {
     "end_time": "2024-01-15T07:59:40.801249Z",
     "start_time": "2024-01-15T07:59:40.781143Z"
    }
   },
   "outputs": [
    {
     "name": "stdout",
     "output_type": "stream",
     "text": [
      "<class 'pandas.core.frame.DataFrame'>\n",
      "RangeIndex: 694 entries, 0 to 693\n",
      "Data columns (total 5 columns):\n",
      " #   Column          Non-Null Count  Dtype \n",
      "---  ------          --------------  ----- \n",
      " 0   extgroup_name   694 non-null    object\n",
      " 1   subgroup_name   694 non-null    object\n",
      " 2   article_name    694 non-null    object\n",
      " 3   total_quantity  694 non-null    int64 \n",
      " 4   gross_sales     694 non-null    int64 \n",
      "dtypes: int64(2), object(3)\n",
      "memory usage: 27.2+ KB\n"
     ]
    }
   ],
   "source": [
    "df.info()"
   ]
  },
  {
   "cell_type": "code",
   "execution_count": 48,
   "id": "2f0ab88e",
   "metadata": {
    "ExecuteTime": {
     "end_time": "2024-01-15T07:59:40.821018Z",
     "start_time": "2024-01-15T07:59:40.801249Z"
    }
   },
   "outputs": [
    {
     "data": {
      "text/plain": [
       "array(['Винная карта', 'Чайный мастер', 'хц закуски', 'Хинкали и соуса',\n",
       "       'Спец предложение Кухня', 'БарНАЯ КАРТА', 'Выпечка',\n",
       "       'Вина по бокалам', 'Спец предложение Бар', 'Коктейли',\n",
       "       'хц десерты', 'Банкет Кухня', 'гц мангал', 'Без скидки',\n",
       "       'Завтраки', 'РАСПРОДАЖА 50%', 'Бар Распродажа 30%',\n",
       "       'гц основные блюда и гарниры', 'гц закуски', 'Банкет Бар',\n",
       "       'гц супа', 'Компоты', 'Базар/Магазин', 'Наборы', 'Праздник',\n",
       "       'хц салаты'], dtype=object)"
      ]
     },
     "execution_count": 48,
     "metadata": {},
     "output_type": "execute_result"
    }
   ],
   "source": [
    "df.subgroup_name.unique()"
   ]
  },
  {
   "cell_type": "markdown",
   "id": "392105ff",
   "metadata": {},
   "source": [
    "Нас интересуют только позиции основного меню, поэтому отберем их. Позиции бара и др.подкатегорий логично анализировать отдельно. "
   ]
  },
  {
   "cell_type": "code",
   "execution_count": 49,
   "id": "e86a916d",
   "metadata": {
    "ExecuteTime": {
     "end_time": "2024-01-15T07:59:40.841004Z",
     "start_time": "2024-01-15T07:59:40.821018Z"
    }
   },
   "outputs": [],
   "source": [
    "food = ['Хинкали и соуса','Выпечка','гц основные блюда и гарниры','гц закуски',\n",
    "'хц салаты','хц закуски','гц мангал','гц супа','Завтраки']"
   ]
  },
  {
   "cell_type": "code",
   "execution_count": 50,
   "id": "1436d5ad",
   "metadata": {
    "ExecuteTime": {
     "end_time": "2024-01-15T07:59:40.861276Z",
     "start_time": "2024-01-15T07:59:40.841004Z"
    }
   },
   "outputs": [
    {
     "data": {
      "text/plain": [
       "array(['4 пхали на лаваше с баклажаном', '4 пхали на лаваше с грибами',\n",
       "       '4 пхали на лаваше со свеклой', '4 пхали на лаваше со шпинатом',\n",
       "       '4шт Хинкали с бараниной и говядиной',\n",
       "       '4шт Хинкали с говядиной и свининой', '4шт Хинкали с грибами',\n",
       "       '4шт Хинкали с мраморной говядиной', '4шт Хинкали с сыром',\n",
       "       'Аджабсандал', 'Аджарик', 'Аджика красная',\n",
       "       'Ассорти закусок \"Кутаиси\"', 'Ассорти пхали на лаваше',\n",
       "       'Ассорти рулетиков с сыром надуги с мятой', 'Ассорти сыров',\n",
       "       'Баже', 'Баранья лопатка на кости', 'Бастурма 30 гр',\n",
       "       'Ветчина топпинг', 'Вишневый соус 50гр', 'Грузинский лаваш пури',\n",
       "       'Дет. Картофель фри', 'Дет. Картофельное пюре',\n",
       "       'Дет. Куриная котлета', 'Дет. Куриный бульон с алфавитом',\n",
       "       'Дет. Куриный шашлычок', 'Дет. Макарошки',\n",
       "       'Дет. Наггетсы куриные в кляре', 'Дет. Наггетсы рыбные в кляре',\n",
       "       'Дет. Овощной салат', 'Дет. Овощные палочки', 'Дет. Омлет Цыпа',\n",
       "       'Дет. Пиццури с сыром и ветчиной', 'Дет. Сосиска в тесте',\n",
       "       'Дет. Суп с фрикадельками', 'Дет. Сэндвич Совушка',\n",
       "       'Дет. Хинкальки для малышей с мясом',\n",
       "       'Дет. Хинкальки для малышей с сыром', 'Джонджоли 50 гр',\n",
       "       'Долма с бараниной и говядиной', 'Доставка 3-я зона ',\n",
       "       'Запеченный баклажан', 'Запеченный сыр сулугуни с овощами',\n",
       "       'Зелень свежая', 'Зерна граната 20 гр', 'Капрезе по-восточному',\n",
       "       'Капуста по-гурийски', 'Картофель по-домашнему',\n",
       "       'Картофельное пюре', 'Каша овсяная на воде',\n",
       "       'Каша овсяная на молоке', 'Кетчуп 50 гр', 'Кинза 20 гр',\n",
       "       'Котлеты куриные с картофельным пюре',\n",
       "       'Куриный бульон с пшеничной лапшой', 'Лобио',\n",
       "       'Люля-кебаб из цыпленка', 'Майонез 50 гр', 'Масло оливковое 30 гр',\n",
       "       'Мацони с зеленью', 'Мед топпинг', 'Микс хинкали 4шт',\n",
       "       'Мини-хинкали в бульоне', 'Мини-хинкали с аджабсандалом',\n",
       "       'Мясное ассорти', 'Мясное ассорти \"Садж\"', 'Наршараб',\n",
       "       'Овощи на гриле', 'Огурцы маринованные 50 гр', 'Огурцы св 100 гр',\n",
       "       'Огурцы соленые 50 гр', 'Оджахури с треской',\n",
       "       'Оджахури со свининой', 'Олимпийский завтрак', 'Омлет',\n",
       "       'Орех грецкий топпинг', 'Перец острый соленый 50 гр',\n",
       "       'Перец чили красный 10 гр', 'Петрушка 20 гр',\n",
       "       'Пицца Батуми с томатами и сулугуни',\n",
       "       'Пицца Кахетия с аджабсандалом', 'Пицца Мцхета с грушей и дорблю',\n",
       "       'Пицца Рача по-чкмерски', 'Пицца Сванети мясная',\n",
       "       'Помидоры соленые 50 гр', 'Пхали ассорти',\n",
       "       'Пхали на лаваше с баклажаном', 'Пхали на лаваше с грибами',\n",
       "       'Пхали на лаваше со свеклой', 'Пхали на лаваше со шпинатом',\n",
       "       'Пхали с баклажаном ', 'Пхали с грибами', 'Пхали со свеклой',\n",
       "       'Пхали со шпинатом', 'Салат \"Мцвади\" с ростбифом',\n",
       "       'Салат Бабушки Нино', 'Салат грузинский со специями',\n",
       "       'Салат с баклажаном и сыром фета',\n",
       "       'Салат с помидорами и красным луком', 'Салат с языком и гренками',\n",
       "       'Сацебели', 'Сацебели зеленый', 'Сациви с курой', 'Свежие овощи',\n",
       "       'Сезонные свежие овощи', 'Скрембл', 'Сметана', 'Соевый соус 30 гр',\n",
       "       'Соленья', 'Соус табаско 10 гр', 'Соус чесночный',\n",
       "       'Суджук из говядины 30 гр', 'Суп Бозбаш', 'Суп Боснеули',\n",
       "       'Суп Харчо', 'Суп Хашлама с бараниной и овощами',\n",
       "       'Сыр на хачапури 50 гр', 'Сыр сулугуни 50 гр',\n",
       "       'Сыр сулугуни копченый 30 гр', 'Сыр топпинг',\n",
       "       'Сыр чечил копченый 30 гр', 'Ткемали зеленый', 'Ткемали красный',\n",
       "       'Томаты свежие', 'Треска на подушке из овощей',\n",
       "       'Уксус винный 30 гр', 'Хачапургер', 'Хачапури на шампуре',\n",
       "       'Хачапури по-аджарски', 'Хачапури по-гурийски с ветчиной',\n",
       "       'Хачапури по-имеретински', 'Хачапури по-мегрельски',\n",
       "       'Хинкали с бараниной и говядиной',\n",
       "       'Хинкали с говядиной и свининой', 'Хинкали с грибами',\n",
       "       'Хинкали с мраморной говядиной', 'Хинкали с сыром сулугуни',\n",
       "       'Хинкали с яблоком и вишней', 'Хлеб багет100 гр',\n",
       "       'Цезарь по-восточному', 'Чакапули', 'Чахохбили с цыпленком',\n",
       "       'Чашушули с говядиной', 'Чвиштари',\n",
       "       'Чебурек с бараниной/говядиной', 'Чебурек с сыром и зеленью',\n",
       "       'Чебурек со свининой/говядиной', 'Чебуреки ассорти',\n",
       "       'Чирбули - грузинская яичница с томатами',\n",
       "       'Чкмерули в пряно-сливочном соусе', 'Шаверма по-батумски',\n",
       "       'Шампиньоны запеченные с сыром', 'Шашлык из баранины',\n",
       "       'Шашлык из индейки', 'Шашлык из куриного бедра',\n",
       "       'Шашлык из свинины', 'Язык отварной 50 гр', 'Яичница глазунья.',\n",
       "       'Яйца отварные', 'Яйцо куриное', 'сп. Аджика сухая 10 гр',\n",
       "       'сп. Перец чили сухой 10 гр'], dtype=object)"
      ]
     },
     "execution_count": 50,
     "metadata": {},
     "output_type": "execute_result"
    }
   ],
   "source": [
    "df.loc[df['subgroup_name'].apply(lambda x: x in food)]['article_name'].unique()"
   ]
  },
  {
   "cell_type": "code",
   "execution_count": 51,
   "id": "2061762f",
   "metadata": {
    "ExecuteTime": {
     "end_time": "2024-01-15T07:59:40.881501Z",
     "start_time": "2024-01-15T07:59:40.861276Z"
    }
   },
   "outputs": [],
   "source": [
    "df_food = df.loc[df['subgroup_name'].apply(\n",
    "    lambda x: x in food)].reset_index()[['article_name', 'total_quantity', 'gross_sales']]"
   ]
  },
  {
   "cell_type": "code",
   "execution_count": 52,
   "id": "287336ca",
   "metadata": {
    "ExecuteTime": {
     "end_time": "2024-01-15T07:59:40.900932Z",
     "start_time": "2024-01-15T07:59:40.881501Z"
    }
   },
   "outputs": [
    {
     "data": {
      "text/html": [
       "<div>\n",
       "<style scoped>\n",
       "    .dataframe tbody tr th:only-of-type {\n",
       "        vertical-align: middle;\n",
       "    }\n",
       "\n",
       "    .dataframe tbody tr th {\n",
       "        vertical-align: top;\n",
       "    }\n",
       "\n",
       "    .dataframe thead th {\n",
       "        text-align: right;\n",
       "    }\n",
       "</style>\n",
       "<table border=\"1\" class=\"dataframe\">\n",
       "  <thead>\n",
       "    <tr style=\"text-align: right;\">\n",
       "      <th></th>\n",
       "      <th>article_name</th>\n",
       "      <th>total_quantity</th>\n",
       "      <th>gross_sales</th>\n",
       "    </tr>\n",
       "  </thead>\n",
       "  <tbody>\n",
       "    <tr>\n",
       "      <th>0</th>\n",
       "      <td>4 пхали на лаваше с баклажаном</td>\n",
       "      <td>1214</td>\n",
       "      <td>315640</td>\n",
       "    </tr>\n",
       "    <tr>\n",
       "      <th>1</th>\n",
       "      <td>4 пхали на лаваше с грибами</td>\n",
       "      <td>581</td>\n",
       "      <td>151060</td>\n",
       "    </tr>\n",
       "    <tr>\n",
       "      <th>2</th>\n",
       "      <td>4 пхали на лаваше со свеклой</td>\n",
       "      <td>379</td>\n",
       "      <td>98540</td>\n",
       "    </tr>\n",
       "    <tr>\n",
       "      <th>3</th>\n",
       "      <td>4 пхали на лаваше со шпинатом</td>\n",
       "      <td>365</td>\n",
       "      <td>94900</td>\n",
       "    </tr>\n",
       "    <tr>\n",
       "      <th>4</th>\n",
       "      <td>4шт Хинкали с бараниной и говядиной</td>\n",
       "      <td>95851</td>\n",
       "      <td>26315940</td>\n",
       "    </tr>\n",
       "  </tbody>\n",
       "</table>\n",
       "</div>"
      ],
      "text/plain": [
       "                          article_name  total_quantity  \\\n",
       "0       4 пхали на лаваше с баклажаном            1214   \n",
       "1          4 пхали на лаваше с грибами             581   \n",
       "2         4 пхали на лаваше со свеклой             379   \n",
       "3        4 пхали на лаваше со шпинатом             365   \n",
       "4  4шт Хинкали с бараниной и говядиной           95851   \n",
       "\n",
       "   gross_sales  \n",
       "0       315640  \n",
       "1       151060  \n",
       "2        98540  \n",
       "3        94900  \n",
       "4     26315940  "
      ]
     },
     "execution_count": 52,
     "metadata": {},
     "output_type": "execute_result"
    }
   ],
   "source": [
    "df_food.head()"
   ]
  },
  {
   "cell_type": "markdown",
   "id": "c6da4fa9",
   "metadata": {},
   "source": [
    "Добавим данные о коэффициенте прибыльности товаров, выгруженные из другой базы."
   ]
  },
  {
   "cell_type": "code",
   "execution_count": 53,
   "id": "16ffe1ca",
   "metadata": {
    "ExecuteTime": {
     "end_time": "2024-01-15T07:59:40.941077Z",
     "start_time": "2024-01-15T07:59:40.900932Z"
    }
   },
   "outputs": [
    {
     "data": {
      "text/html": [
       "<div>\n",
       "<style scoped>\n",
       "    .dataframe tbody tr th:only-of-type {\n",
       "        vertical-align: middle;\n",
       "    }\n",
       "\n",
       "    .dataframe tbody tr th {\n",
       "        vertical-align: top;\n",
       "    }\n",
       "\n",
       "    .dataframe thead th {\n",
       "        text-align: right;\n",
       "    }\n",
       "</style>\n",
       "<table border=\"1\" class=\"dataframe\">\n",
       "  <thead>\n",
       "    <tr style=\"text-align: right;\">\n",
       "      <th></th>\n",
       "      <th>article_name</th>\n",
       "      <th>profit_coef</th>\n",
       "    </tr>\n",
       "  </thead>\n",
       "  <tbody>\n",
       "    <tr>\n",
       "      <th>0</th>\n",
       "      <td>2 шт Сосиска в тесте</td>\n",
       "      <td>1.759945</td>\n",
       "    </tr>\n",
       "    <tr>\n",
       "      <th>1</th>\n",
       "      <td>4 пхали на лаваше с баклажаном</td>\n",
       "      <td>3.442841</td>\n",
       "    </tr>\n",
       "    <tr>\n",
       "      <th>2</th>\n",
       "      <td>4 пхали на лаваше с грибами</td>\n",
       "      <td>2.767872</td>\n",
       "    </tr>\n",
       "    <tr>\n",
       "      <th>3</th>\n",
       "      <td>4 пхали на лаваше со свеклой</td>\n",
       "      <td>6.403552</td>\n",
       "    </tr>\n",
       "    <tr>\n",
       "      <th>4</th>\n",
       "      <td>4 пхали на лаваше со шпинатом</td>\n",
       "      <td>3.085769</td>\n",
       "    </tr>\n",
       "  </tbody>\n",
       "</table>\n",
       "</div>"
      ],
      "text/plain": [
       "                     article_name  profit_coef\n",
       "0            2 шт Сосиска в тесте     1.759945\n",
       "1  4 пхали на лаваше с баклажаном     3.442841\n",
       "2     4 пхали на лаваше с грибами     2.767872\n",
       "3    4 пхали на лаваше со свеклой     6.403552\n",
       "4   4 пхали на лаваше со шпинатом     3.085769"
      ]
     },
     "execution_count": 53,
     "metadata": {},
     "output_type": "execute_result"
    }
   ],
   "source": [
    "margin = pd.read_excel('margin_coefficients.xlsx')\n",
    "margin.head()"
   ]
  },
  {
   "cell_type": "code",
   "execution_count": 54,
   "id": "095bdc69",
   "metadata": {
    "ExecuteTime": {
     "end_time": "2024-01-15T07:59:40.961173Z",
     "start_time": "2024-01-15T07:59:40.941077Z"
    }
   },
   "outputs": [],
   "source": [
    "df_food = df_food.merge(margin, \n",
    "          how='left',\n",
    "          left_on='article_name', \n",
    "          right_on='article_name')\n",
    "          #how='left')#, \n",
    "          #lsuffix='', \n",
    "          #rsuffix='', \n",
    "          #sort=False"
   ]
  },
  {
   "cell_type": "code",
   "execution_count": 55,
   "id": "4c6e335f",
   "metadata": {
    "ExecuteTime": {
     "end_time": "2024-01-15T07:59:40.981328Z",
     "start_time": "2024-01-15T07:59:40.961173Z"
    }
   },
   "outputs": [],
   "source": [
    "df_food['profit_coef'] = df_food['profit_coef'].fillna(0.72)"
   ]
  },
  {
   "cell_type": "code",
   "execution_count": 56,
   "id": "1c78eab4",
   "metadata": {
    "ExecuteTime": {
     "end_time": "2024-01-15T07:59:41.001170Z",
     "start_time": "2024-01-15T07:59:40.981328Z"
    }
   },
   "outputs": [],
   "source": [
    "# df_food['profit'] = (\n",
    "#     (df_food['gross_sales'] / df_food['total_quantity']) - (\n",
    "#         ((df_food['gross_sales'] / df_food['total_quantity'])\n",
    "#         ) / (df_food['profit_coef'] + 1))) * df_food['total_quantity']\n",
    "\n",
    "# col_list = list(df_food.columns)\n",
    "# col_list.remove('profit_coef')\n",
    "# df_food = df_food[col_list]"
   ]
  },
  {
   "cell_type": "code",
   "execution_count": 57,
   "id": "5e7621cd",
   "metadata": {
    "ExecuteTime": {
     "end_time": "2024-01-15T07:59:41.016239Z",
     "start_time": "2024-01-15T07:59:41.001170Z"
    }
   },
   "outputs": [
    {
     "data": {
      "text/html": [
       "<div>\n",
       "<style scoped>\n",
       "    .dataframe tbody tr th:only-of-type {\n",
       "        vertical-align: middle;\n",
       "    }\n",
       "\n",
       "    .dataframe tbody tr th {\n",
       "        vertical-align: top;\n",
       "    }\n",
       "\n",
       "    .dataframe thead th {\n",
       "        text-align: right;\n",
       "    }\n",
       "</style>\n",
       "<table border=\"1\" class=\"dataframe\">\n",
       "  <thead>\n",
       "    <tr style=\"text-align: right;\">\n",
       "      <th></th>\n",
       "      <th>article_name</th>\n",
       "      <th>total_quantity</th>\n",
       "      <th>gross_sales</th>\n",
       "      <th>profit_coef</th>\n",
       "    </tr>\n",
       "  </thead>\n",
       "  <tbody>\n",
       "    <tr>\n",
       "      <th>0</th>\n",
       "      <td>4 пхали на лаваше с баклажаном</td>\n",
       "      <td>1214</td>\n",
       "      <td>315640</td>\n",
       "      <td>3.442841</td>\n",
       "    </tr>\n",
       "    <tr>\n",
       "      <th>1</th>\n",
       "      <td>4 пхали на лаваше с грибами</td>\n",
       "      <td>581</td>\n",
       "      <td>151060</td>\n",
       "      <td>2.767872</td>\n",
       "    </tr>\n",
       "    <tr>\n",
       "      <th>2</th>\n",
       "      <td>4 пхали на лаваше со свеклой</td>\n",
       "      <td>379</td>\n",
       "      <td>98540</td>\n",
       "      <td>6.403552</td>\n",
       "    </tr>\n",
       "    <tr>\n",
       "      <th>3</th>\n",
       "      <td>4 пхали на лаваше со шпинатом</td>\n",
       "      <td>365</td>\n",
       "      <td>94900</td>\n",
       "      <td>3.085769</td>\n",
       "    </tr>\n",
       "    <tr>\n",
       "      <th>4</th>\n",
       "      <td>4шт Хинкали с бараниной и говядиной</td>\n",
       "      <td>95851</td>\n",
       "      <td>26315940</td>\n",
       "      <td>1.999417</td>\n",
       "    </tr>\n",
       "  </tbody>\n",
       "</table>\n",
       "</div>"
      ],
      "text/plain": [
       "                          article_name  total_quantity  \\\n",
       "0       4 пхали на лаваше с баклажаном            1214   \n",
       "1          4 пхали на лаваше с грибами             581   \n",
       "2         4 пхали на лаваше со свеклой             379   \n",
       "3        4 пхали на лаваше со шпинатом             365   \n",
       "4  4шт Хинкали с бараниной и говядиной           95851   \n",
       "\n",
       "   gross_sales  profit_coef  \n",
       "0       315640     3.442841  \n",
       "1       151060     2.767872  \n",
       "2        98540     6.403552  \n",
       "3        94900     3.085769  \n",
       "4     26315940     1.999417  "
      ]
     },
     "execution_count": 57,
     "metadata": {},
     "output_type": "execute_result"
    }
   ],
   "source": [
    "df_food.head()"
   ]
  },
  {
   "cell_type": "code",
   "execution_count": 58,
   "id": "1e4d70f7",
   "metadata": {
    "ExecuteTime": {
     "end_time": "2024-01-15T07:59:41.035819Z",
     "start_time": "2024-01-15T07:59:41.016239Z"
    }
   },
   "outputs": [
    {
     "data": {
      "text/html": [
       "<div>\n",
       "<style scoped>\n",
       "    .dataframe tbody tr th:only-of-type {\n",
       "        vertical-align: middle;\n",
       "    }\n",
       "\n",
       "    .dataframe tbody tr th {\n",
       "        vertical-align: top;\n",
       "    }\n",
       "\n",
       "    .dataframe thead th {\n",
       "        text-align: right;\n",
       "    }\n",
       "</style>\n",
       "<table border=\"1\" class=\"dataframe\">\n",
       "  <thead>\n",
       "    <tr style=\"text-align: right;\">\n",
       "      <th></th>\n",
       "      <th>article_name</th>\n",
       "      <th>total_quantity</th>\n",
       "      <th>gross_sales</th>\n",
       "      <th>profit_coef</th>\n",
       "    </tr>\n",
       "  </thead>\n",
       "  <tbody>\n",
       "    <tr>\n",
       "      <th>134</th>\n",
       "      <td>Хинкали с говядиной и свининой</td>\n",
       "      <td>282235</td>\n",
       "      <td>19265278</td>\n",
       "      <td>2.928124</td>\n",
       "    </tr>\n",
       "    <tr>\n",
       "      <th>133</th>\n",
       "      <td>Хинкали с бараниной и говядиной</td>\n",
       "      <td>247748</td>\n",
       "      <td>16906222</td>\n",
       "      <td>2.058434</td>\n",
       "    </tr>\n",
       "    <tr>\n",
       "      <th>136</th>\n",
       "      <td>Хинкали с мраморной говядиной</td>\n",
       "      <td>163556</td>\n",
       "      <td>11174301</td>\n",
       "      <td>3.039062</td>\n",
       "    </tr>\n",
       "    <tr>\n",
       "      <th>137</th>\n",
       "      <td>Хинкали с сыром сулугуни</td>\n",
       "      <td>135271</td>\n",
       "      <td>9231675</td>\n",
       "      <td>1.380786</td>\n",
       "    </tr>\n",
       "    <tr>\n",
       "      <th>5</th>\n",
       "      <td>4шт Хинкали с говядиной и свининой</td>\n",
       "      <td>124508</td>\n",
       "      <td>34198160</td>\n",
       "      <td>3.034428</td>\n",
       "    </tr>\n",
       "    <tr>\n",
       "      <th>4</th>\n",
       "      <td>4шт Хинкали с бараниной и говядиной</td>\n",
       "      <td>95851</td>\n",
       "      <td>26315940</td>\n",
       "      <td>1.999417</td>\n",
       "    </tr>\n",
       "    <tr>\n",
       "      <th>10</th>\n",
       "      <td>Аджарик</td>\n",
       "      <td>86839</td>\n",
       "      <td>18078106</td>\n",
       "      <td>1.867914</td>\n",
       "    </tr>\n",
       "    <tr>\n",
       "      <th>7</th>\n",
       "      <td>4шт Хинкали с мраморной говядиной</td>\n",
       "      <td>68674</td>\n",
       "      <td>18814240</td>\n",
       "      <td>2.804297</td>\n",
       "    </tr>\n",
       "    <tr>\n",
       "      <th>135</th>\n",
       "      <td>Хинкали с грибами</td>\n",
       "      <td>67900</td>\n",
       "      <td>4630978</td>\n",
       "      <td>2.671634</td>\n",
       "    </tr>\n",
       "    <tr>\n",
       "      <th>8</th>\n",
       "      <td>4шт Хинкали с сыром</td>\n",
       "      <td>64193</td>\n",
       "      <td>17614980</td>\n",
       "      <td>1.295483</td>\n",
       "    </tr>\n",
       "  </tbody>\n",
       "</table>\n",
       "</div>"
      ],
      "text/plain": [
       "                            article_name  total_quantity  \\\n",
       "134       Хинкали с говядиной и свининой          282235   \n",
       "133      Хинкали с бараниной и говядиной          247748   \n",
       "136        Хинкали с мраморной говядиной          163556   \n",
       "137             Хинкали с сыром сулугуни          135271   \n",
       "5     4шт Хинкали с говядиной и свининой          124508   \n",
       "4    4шт Хинкали с бараниной и говядиной           95851   \n",
       "10                               Аджарик           86839   \n",
       "7      4шт Хинкали с мраморной говядиной           68674   \n",
       "135                    Хинкали с грибами           67900   \n",
       "8                    4шт Хинкали с сыром           64193   \n",
       "\n",
       "     gross_sales  profit_coef  \n",
       "134     19265278     2.928124  \n",
       "133     16906222     2.058434  \n",
       "136     11174301     3.039062  \n",
       "137      9231675     1.380786  \n",
       "5       34198160     3.034428  \n",
       "4       26315940     1.999417  \n",
       "10      18078106     1.867914  \n",
       "7       18814240     2.804297  \n",
       "135      4630978     2.671634  \n",
       "8       17614980     1.295483  "
      ]
     },
     "execution_count": 58,
     "metadata": {},
     "output_type": "execute_result"
    }
   ],
   "source": [
    "df_food.groupby(by=['article_name']).sum().reset_index().sort_values(\n",
    "    by='total_quantity', ascending=False).head(10)"
   ]
  },
  {
   "cell_type": "markdown",
   "id": "ad27ef84",
   "metadata": {},
   "source": [
    "Кратко проверили данные, подготовили датасет для построения анализа. "
   ]
  },
  {
   "cell_type": "markdown",
   "id": "1a58a362",
   "metadata": {},
   "source": [
    "## АВС-анализ"
   ]
  },
  {
   "cell_type": "markdown",
   "id": "b2e30a14",
   "metadata": {},
   "source": [
    "### Одномерный (по количеству)"
   ]
  },
  {
   "cell_type": "code",
   "execution_count": 59,
   "id": "e4f0e13a",
   "metadata": {
    "ExecuteTime": {
     "end_time": "2024-01-15T07:59:41.051321Z",
     "start_time": "2024-01-15T07:59:41.035819Z"
    }
   },
   "outputs": [],
   "source": [
    "df1 = df_food.copy()"
   ]
  },
  {
   "cell_type": "code",
   "execution_count": 60,
   "id": "446f84ea",
   "metadata": {
    "ExecuteTime": {
     "end_time": "2024-01-15T07:59:41.071717Z",
     "start_time": "2024-01-15T07:59:41.051321Z"
    }
   },
   "outputs": [],
   "source": [
    "df1['relative_qty'] = df1['total_quantity'] / df1['total_quantity'].sum()\n",
    "df1 = df1.sort_values(by='relative_qty', ascending=False)\n",
    "df1['cumsum_qty'] = df1['relative_qty'].cumsum()\n",
    "\n",
    "df1['abc_qty'] = np.where(\n",
    "    df1['cumsum_qty'] < A_LIMIT, 'A', \n",
    "    np.where(\n",
    "        df1['cumsum_qty'] < B_LIMIT, 'B', 'C'\n",
    "    )\n",
    ")"
   ]
  },
  {
   "cell_type": "code",
   "execution_count": 61,
   "id": "51562a43",
   "metadata": {
    "ExecuteTime": {
     "end_time": "2024-01-15T07:59:41.087982Z",
     "start_time": "2024-01-15T07:59:41.071717Z"
    }
   },
   "outputs": [
    {
     "data": {
      "text/html": [
       "<div>\n",
       "<style scoped>\n",
       "    .dataframe tbody tr th:only-of-type {\n",
       "        vertical-align: middle;\n",
       "    }\n",
       "\n",
       "    .dataframe tbody tr th {\n",
       "        vertical-align: top;\n",
       "    }\n",
       "\n",
       "    .dataframe thead th {\n",
       "        text-align: right;\n",
       "    }\n",
       "</style>\n",
       "<table border=\"1\" class=\"dataframe\">\n",
       "  <thead>\n",
       "    <tr style=\"text-align: right;\">\n",
       "      <th></th>\n",
       "      <th>article_name</th>\n",
       "      <th>total_quantity</th>\n",
       "      <th>gross_sales</th>\n",
       "      <th>profit_coef</th>\n",
       "      <th>relative_qty</th>\n",
       "      <th>cumsum_qty</th>\n",
       "      <th>abc_qty</th>\n",
       "    </tr>\n",
       "  </thead>\n",
       "  <tbody>\n",
       "    <tr>\n",
       "      <th>134</th>\n",
       "      <td>Хинкали с говядиной и свининой</td>\n",
       "      <td>282235</td>\n",
       "      <td>19265278</td>\n",
       "      <td>2.928124</td>\n",
       "      <td>0.117014</td>\n",
       "      <td>0.117014</td>\n",
       "      <td>A</td>\n",
       "    </tr>\n",
       "    <tr>\n",
       "      <th>133</th>\n",
       "      <td>Хинкали с бараниной и говядиной</td>\n",
       "      <td>247748</td>\n",
       "      <td>16906222</td>\n",
       "      <td>2.058434</td>\n",
       "      <td>0.102715</td>\n",
       "      <td>0.219729</td>\n",
       "      <td>A</td>\n",
       "    </tr>\n",
       "    <tr>\n",
       "      <th>136</th>\n",
       "      <td>Хинкали с мраморной говядиной</td>\n",
       "      <td>163556</td>\n",
       "      <td>11174301</td>\n",
       "      <td>3.039062</td>\n",
       "      <td>0.067810</td>\n",
       "      <td>0.287539</td>\n",
       "      <td>A</td>\n",
       "    </tr>\n",
       "    <tr>\n",
       "      <th>137</th>\n",
       "      <td>Хинкали с сыром сулугуни</td>\n",
       "      <td>135271</td>\n",
       "      <td>9231675</td>\n",
       "      <td>1.380786</td>\n",
       "      <td>0.056083</td>\n",
       "      <td>0.343622</td>\n",
       "      <td>A</td>\n",
       "    </tr>\n",
       "    <tr>\n",
       "      <th>5</th>\n",
       "      <td>4шт Хинкали с говядиной и свининой</td>\n",
       "      <td>124508</td>\n",
       "      <td>34198160</td>\n",
       "      <td>3.034428</td>\n",
       "      <td>0.051621</td>\n",
       "      <td>0.395242</td>\n",
       "      <td>A</td>\n",
       "    </tr>\n",
       "    <tr>\n",
       "      <th>...</th>\n",
       "      <td>...</td>\n",
       "      <td>...</td>\n",
       "      <td>...</td>\n",
       "      <td>...</td>\n",
       "      <td>...</td>\n",
       "      <td>...</td>\n",
       "      <td>...</td>\n",
       "    </tr>\n",
       "    <tr>\n",
       "      <th>157</th>\n",
       "      <td>Язык отварной 50 гр</td>\n",
       "      <td>15</td>\n",
       "      <td>4500</td>\n",
       "      <td>1.751183</td>\n",
       "      <td>0.000006</td>\n",
       "      <td>0.999983</td>\n",
       "      <td>C</td>\n",
       "    </tr>\n",
       "    <tr>\n",
       "      <th>93</th>\n",
       "      <td>Пхали со свеклой</td>\n",
       "      <td>14</td>\n",
       "      <td>4495</td>\n",
       "      <td>7.498883</td>\n",
       "      <td>0.000006</td>\n",
       "      <td>0.999988</td>\n",
       "      <td>C</td>\n",
       "    </tr>\n",
       "    <tr>\n",
       "      <th>112</th>\n",
       "      <td>Суджук из говядины 30 гр</td>\n",
       "      <td>13</td>\n",
       "      <td>2990</td>\n",
       "      <td>2.028962</td>\n",
       "      <td>0.000005</td>\n",
       "      <td>0.999994</td>\n",
       "      <td>C</td>\n",
       "    </tr>\n",
       "    <tr>\n",
       "      <th>39</th>\n",
       "      <td>Джонджоли 50 гр</td>\n",
       "      <td>12</td>\n",
       "      <td>4375</td>\n",
       "      <td>3.045145</td>\n",
       "      <td>0.000005</td>\n",
       "      <td>0.999999</td>\n",
       "      <td>C</td>\n",
       "    </tr>\n",
       "    <tr>\n",
       "      <th>108</th>\n",
       "      <td>Соевый соус 30 гр</td>\n",
       "      <td>3</td>\n",
       "      <td>90</td>\n",
       "      <td>4.170021</td>\n",
       "      <td>0.000001</td>\n",
       "      <td>1.000000</td>\n",
       "      <td>C</td>\n",
       "    </tr>\n",
       "  </tbody>\n",
       "</table>\n",
       "<p>163 rows × 7 columns</p>\n",
       "</div>"
      ],
      "text/plain": [
       "                           article_name  total_quantity  \\\n",
       "134      Хинкали с говядиной и свининой          282235   \n",
       "133     Хинкали с бараниной и говядиной          247748   \n",
       "136       Хинкали с мраморной говядиной          163556   \n",
       "137            Хинкали с сыром сулугуни          135271   \n",
       "5    4шт Хинкали с говядиной и свининой          124508   \n",
       "..                                  ...             ...   \n",
       "157                 Язык отварной 50 гр              15   \n",
       "93                     Пхали со свеклой              14   \n",
       "112            Суджук из говядины 30 гр              13   \n",
       "39                      Джонджоли 50 гр              12   \n",
       "108                   Соевый соус 30 гр               3   \n",
       "\n",
       "     gross_sales  profit_coef  relative_qty  cumsum_qty  \\\n",
       "134     19265278     2.928124      0.117014    0.117014   \n",
       "133     16906222     2.058434      0.102715    0.219729   \n",
       "136     11174301     3.039062      0.067810    0.287539   \n",
       "137      9231675     1.380786      0.056083    0.343622   \n",
       "5       34198160     3.034428      0.051621    0.395242   \n",
       "..           ...          ...           ...         ...   \n",
       "157         4500     1.751183      0.000006    0.999983   \n",
       "93          4495     7.498883      0.000006    0.999988   \n",
       "112         2990     2.028962      0.000005    0.999994   \n",
       "39          4375     3.045145      0.000005    0.999999   \n",
       "108           90     4.170021      0.000001    1.000000   \n",
       "\n",
       "    abc_qty  \n",
       "134       A  \n",
       "133       A  \n",
       "136       A  \n",
       "137       A  \n",
       "5         A  \n",
       "..      ...  \n",
       "157       C  \n",
       "93        C  \n",
       "112       C  \n",
       "39        C  \n",
       "108       C  \n",
       "\n",
       "[163 rows x 7 columns]"
      ]
     },
     "execution_count": 61,
     "metadata": {},
     "output_type": "execute_result"
    }
   ],
   "source": [
    "df1"
   ]
  },
  {
   "cell_type": "markdown",
   "id": "ccf6091c",
   "metadata": {},
   "source": [
    "Одномерный `АВС-анализ` не является достаточным для того, чтобы по нему делать выводы о товаре, т.к. товары, относящиеся к группе `С` по количеству, например, могут быть очень дорогими/маржинальными и приносить много выручки/прибыли. "
   ]
  },
  {
   "cell_type": "markdown",
   "id": "77a16040",
   "metadata": {},
   "source": [
    "Или, если мы, основываясь на одномерном анализе, возьмем какой-либо товар в группе `А` и поднимем на него цену с целью увеличить выручку, мы можем не получить ожидаемый результат, т.к. мы не знаем, регулярный на эту позицию товара был спрос или это какой-то разовый спрос после акции, например (без `XYZ-анализа`)"
   ]
  },
  {
   "cell_type": "markdown",
   "id": "80c4f0c9",
   "metadata": {},
   "source": [
    "В данном конкретном случае мы знаем, что позиции из группы `А` не являются позициями разового спроса, но тем не менее, продолжим анализ, чтобы наши выводы не были поверхностными."
   ]
  },
  {
   "cell_type": "markdown",
   "id": "dea70b6d",
   "metadata": {},
   "source": [
    "### Многомерный"
   ]
  },
  {
   "cell_type": "code",
   "execution_count": 62,
   "id": "ab9189c1",
   "metadata": {
    "ExecuteTime": {
     "end_time": "2024-01-15T07:59:41.111354Z",
     "start_time": "2024-01-15T07:59:41.087982Z"
    }
   },
   "outputs": [],
   "source": [
    "df2 = df_food.copy()"
   ]
  },
  {
   "cell_type": "code",
   "execution_count": 63,
   "id": "0dfcb1c3",
   "metadata": {
    "ExecuteTime": {
     "end_time": "2024-01-15T07:59:41.130842Z",
     "start_time": "2024-01-15T07:59:41.111354Z"
    }
   },
   "outputs": [
    {
     "data": {
      "text/plain": [
       "['total_quantity', 'gross_sales', 'profit_coef']"
      ]
     },
     "execution_count": 63,
     "metadata": {},
     "output_type": "execute_result"
    }
   ],
   "source": [
    "cols = list(df2.columns)\n",
    "cols.remove('article_name')\n",
    "cols"
   ]
  },
  {
   "cell_type": "code",
   "execution_count": 64,
   "id": "c99f3b9e",
   "metadata": {
    "ExecuteTime": {
     "end_time": "2024-01-15T07:59:41.150969Z",
     "start_time": "2024-01-15T07:59:41.130842Z"
    }
   },
   "outputs": [],
   "source": [
    "df_food_abc = abc_multi_func(df2, cols, A_LIMIT, B_LIMIT)"
   ]
  },
  {
   "cell_type": "code",
   "execution_count": 65,
   "id": "ba7e8241",
   "metadata": {
    "ExecuteTime": {
     "end_time": "2024-01-15T07:59:41.171001Z",
     "start_time": "2024-01-15T07:59:41.150969Z"
    }
   },
   "outputs": [
    {
     "data": {
      "text/html": [
       "<div>\n",
       "<style scoped>\n",
       "    .dataframe tbody tr th:only-of-type {\n",
       "        vertical-align: middle;\n",
       "    }\n",
       "\n",
       "    .dataframe tbody tr th {\n",
       "        vertical-align: top;\n",
       "    }\n",
       "\n",
       "    .dataframe thead th {\n",
       "        text-align: right;\n",
       "    }\n",
       "</style>\n",
       "<table border=\"1\" class=\"dataframe\">\n",
       "  <thead>\n",
       "    <tr style=\"text-align: right;\">\n",
       "      <th></th>\n",
       "      <th>article_name</th>\n",
       "      <th>total_quantity</th>\n",
       "      <th>gross_sales</th>\n",
       "      <th>profit_coef</th>\n",
       "      <th>ABC</th>\n",
       "      <th>relative_total_quantity</th>\n",
       "      <th>cumsum_total_quantity</th>\n",
       "      <th>abc_total_quantity</th>\n",
       "      <th>relative_gross_sales</th>\n",
       "      <th>cumsum_gross_sales</th>\n",
       "      <th>abc_gross_sales</th>\n",
       "      <th>relative_profit_coef</th>\n",
       "      <th>cumsum_profit_coef</th>\n",
       "      <th>abc_profit_coef</th>\n",
       "    </tr>\n",
       "  </thead>\n",
       "  <tbody>\n",
       "    <tr>\n",
       "      <th>50</th>\n",
       "      <td>Каша овсяная на воде</td>\n",
       "      <td>52</td>\n",
       "      <td>11440</td>\n",
       "      <td>9.331748</td>\n",
       "      <td>CCA</td>\n",
       "      <td>0.000022</td>\n",
       "      <td>0.999800</td>\n",
       "      <td>C</td>\n",
       "      <td>0.000023</td>\n",
       "      <td>0.999736</td>\n",
       "      <td>C</td>\n",
       "      <td>0.022668</td>\n",
       "      <td>0.022668</td>\n",
       "      <td>A</td>\n",
       "    </tr>\n",
       "    <tr>\n",
       "      <th>21</th>\n",
       "      <td>Грузинский лаваш пури</td>\n",
       "      <td>24921</td>\n",
       "      <td>2243064</td>\n",
       "      <td>9.142169</td>\n",
       "      <td>ABA</td>\n",
       "      <td>0.010332</td>\n",
       "      <td>0.719573</td>\n",
       "      <td>A</td>\n",
       "      <td>0.004455</td>\n",
       "      <td>0.902094</td>\n",
       "      <td>B</td>\n",
       "      <td>0.022208</td>\n",
       "      <td>0.044876</td>\n",
       "      <td>A</td>\n",
       "    </tr>\n",
       "    <tr>\n",
       "      <th>93</th>\n",
       "      <td>Пхали со свеклой</td>\n",
       "      <td>14</td>\n",
       "      <td>4495</td>\n",
       "      <td>7.498883</td>\n",
       "      <td>CCA</td>\n",
       "      <td>0.000006</td>\n",
       "      <td>0.999988</td>\n",
       "      <td>C</td>\n",
       "      <td>0.000009</td>\n",
       "      <td>0.999903</td>\n",
       "      <td>C</td>\n",
       "      <td>0.018216</td>\n",
       "      <td>0.063092</td>\n",
       "      <td>A</td>\n",
       "    </tr>\n",
       "    <tr>\n",
       "      <th>64</th>\n",
       "      <td>Мини-хинкали с аджабсандалом</td>\n",
       "      <td>374</td>\n",
       "      <td>145899</td>\n",
       "      <td>7.278672</td>\n",
       "      <td>CCA</td>\n",
       "      <td>0.000155</td>\n",
       "      <td>0.997621</td>\n",
       "      <td>C</td>\n",
       "      <td>0.000290</td>\n",
       "      <td>0.996733</td>\n",
       "      <td>C</td>\n",
       "      <td>0.017681</td>\n",
       "      <td>0.080773</td>\n",
       "      <td>A</td>\n",
       "    </tr>\n",
       "    <tr>\n",
       "      <th>2</th>\n",
       "      <td>4 пхали на лаваше со свеклой</td>\n",
       "      <td>379</td>\n",
       "      <td>98540</td>\n",
       "      <td>6.403552</td>\n",
       "      <td>CCA</td>\n",
       "      <td>0.000157</td>\n",
       "      <td>0.997466</td>\n",
       "      <td>C</td>\n",
       "      <td>0.000196</td>\n",
       "      <td>0.998172</td>\n",
       "      <td>C</td>\n",
       "      <td>0.015555</td>\n",
       "      <td>0.096329</td>\n",
       "      <td>A</td>\n",
       "    </tr>\n",
       "  </tbody>\n",
       "</table>\n",
       "</div>"
      ],
      "text/plain": [
       "                    article_name  total_quantity  \\\n",
       "50          Каша овсяная на воде              52   \n",
       "21         Грузинский лаваш пури           24921   \n",
       "93              Пхали со свеклой              14   \n",
       "64  Мини-хинкали с аджабсандалом             374   \n",
       "2   4 пхали на лаваше со свеклой             379   \n",
       "\n",
       "    gross_sales  profit_coef  ABC  \\\n",
       "50        11440     9.331748  CCA   \n",
       "21      2243064     9.142169  ABA   \n",
       "93         4495     7.498883  CCA   \n",
       "64       145899     7.278672  CCA   \n",
       "2         98540     6.403552  CCA   \n",
       "\n",
       "    relative_total_quantity  cumsum_total_quantity  \\\n",
       "50                 0.000022               0.999800   \n",
       "21                 0.010332               0.719573   \n",
       "93                 0.000006               0.999988   \n",
       "64                 0.000155               0.997621   \n",
       "2                  0.000157               0.997466   \n",
       "\n",
       "   abc_total_quantity  relative_gross_sales  \\\n",
       "50                  C              0.000023   \n",
       "21                  A              0.004455   \n",
       "93                  C              0.000009   \n",
       "64                  C              0.000290   \n",
       "2                   C              0.000196   \n",
       "\n",
       "    cumsum_gross_sales abc_gross_sales  \\\n",
       "50            0.999736               C   \n",
       "21            0.902094               B   \n",
       "93            0.999903               C   \n",
       "64            0.996733               C   \n",
       "2             0.998172               C   \n",
       "\n",
       "    relative_profit_coef  cumsum_profit_coef  \\\n",
       "50              0.022668            0.022668   \n",
       "21              0.022208            0.044876   \n",
       "93              0.018216            0.063092   \n",
       "64              0.017681            0.080773   \n",
       "2               0.015555            0.096329   \n",
       "\n",
       "   abc_profit_coef  \n",
       "50               A  \n",
       "21               A  \n",
       "93               A  \n",
       "64               A  \n",
       "2                A  "
      ]
     },
     "execution_count": 65,
     "metadata": {},
     "output_type": "execute_result"
    }
   ],
   "source": [
    "df_food_abc.head()"
   ]
  },
  {
   "cell_type": "markdown",
   "id": "40c957f8",
   "metadata": {},
   "source": [
    "Взглянем на \"лучшие\" и \"худшие\" позиции"
   ]
  },
  {
   "cell_type": "code",
   "execution_count": 66,
   "id": "506ebc77",
   "metadata": {
    "ExecuteTime": {
     "end_time": "2024-01-15T07:59:41.187880Z",
     "start_time": "2024-01-15T07:59:41.171001Z"
    }
   },
   "outputs": [
    {
     "data": {
      "text/html": [
       "<div>\n",
       "<style scoped>\n",
       "    .dataframe tbody tr th:only-of-type {\n",
       "        vertical-align: middle;\n",
       "    }\n",
       "\n",
       "    .dataframe tbody tr th {\n",
       "        vertical-align: top;\n",
       "    }\n",
       "\n",
       "    .dataframe thead th {\n",
       "        text-align: right;\n",
       "    }\n",
       "</style>\n",
       "<table border=\"1\" class=\"dataframe\">\n",
       "  <thead>\n",
       "    <tr style=\"text-align: right;\">\n",
       "      <th></th>\n",
       "      <th>article_name</th>\n",
       "      <th>total_quantity</th>\n",
       "      <th>gross_sales</th>\n",
       "      <th>profit_coef</th>\n",
       "      <th>ABC</th>\n",
       "      <th>relative_total_quantity</th>\n",
       "      <th>cumsum_total_quantity</th>\n",
       "      <th>abc_total_quantity</th>\n",
       "      <th>relative_gross_sales</th>\n",
       "      <th>cumsum_gross_sales</th>\n",
       "      <th>abc_gross_sales</th>\n",
       "      <th>relative_profit_coef</th>\n",
       "      <th>cumsum_profit_coef</th>\n",
       "      <th>abc_profit_coef</th>\n",
       "    </tr>\n",
       "  </thead>\n",
       "  <tbody>\n",
       "    <tr>\n",
       "      <th>134</th>\n",
       "      <td>Хинкали с говядиной и свининой</td>\n",
       "      <td>282235</td>\n",
       "      <td>19265278</td>\n",
       "      <td>2.928124</td>\n",
       "      <td>AAA</td>\n",
       "      <td>0.117014</td>\n",
       "      <td>0.117014</td>\n",
       "      <td>A</td>\n",
       "      <td>0.038259</td>\n",
       "      <td>0.199984</td>\n",
       "      <td>A</td>\n",
       "      <td>0.007113</td>\n",
       "      <td>0.503663</td>\n",
       "      <td>A</td>\n",
       "    </tr>\n",
       "    <tr>\n",
       "      <th>133</th>\n",
       "      <td>Хинкали с бараниной и говядиной</td>\n",
       "      <td>247748</td>\n",
       "      <td>16906222</td>\n",
       "      <td>2.058434</td>\n",
       "      <td>AAA</td>\n",
       "      <td>0.102715</td>\n",
       "      <td>0.219729</td>\n",
       "      <td>A</td>\n",
       "      <td>0.033574</td>\n",
       "      <td>0.341805</td>\n",
       "      <td>A</td>\n",
       "      <td>0.005000</td>\n",
       "      <td>0.765587</td>\n",
       "      <td>A</td>\n",
       "    </tr>\n",
       "    <tr>\n",
       "      <th>136</th>\n",
       "      <td>Хинкали с мраморной говядиной</td>\n",
       "      <td>163556</td>\n",
       "      <td>11174301</td>\n",
       "      <td>3.039062</td>\n",
       "      <td>AAA</td>\n",
       "      <td>0.067810</td>\n",
       "      <td>0.287539</td>\n",
       "      <td>A</td>\n",
       "      <td>0.022191</td>\n",
       "      <td>0.453999</td>\n",
       "      <td>A</td>\n",
       "      <td>0.007382</td>\n",
       "      <td>0.445346</td>\n",
       "      <td>A</td>\n",
       "    </tr>\n",
       "    <tr>\n",
       "      <th>5</th>\n",
       "      <td>4шт Хинкали с говядиной и свининой</td>\n",
       "      <td>124508</td>\n",
       "      <td>34198160</td>\n",
       "      <td>3.034428</td>\n",
       "      <td>AAA</td>\n",
       "      <td>0.051621</td>\n",
       "      <td>0.395242</td>\n",
       "      <td>A</td>\n",
       "      <td>0.067915</td>\n",
       "      <td>0.067915</td>\n",
       "      <td>A</td>\n",
       "      <td>0.007371</td>\n",
       "      <td>0.452718</td>\n",
       "      <td>A</td>\n",
       "    </tr>\n",
       "    <tr>\n",
       "      <th>4</th>\n",
       "      <td>4шт Хинкали с бараниной и говядиной</td>\n",
       "      <td>95851</td>\n",
       "      <td>26315940</td>\n",
       "      <td>1.999417</td>\n",
       "      <td>AAA</td>\n",
       "      <td>0.039739</td>\n",
       "      <td>0.434982</td>\n",
       "      <td>A</td>\n",
       "      <td>0.052261</td>\n",
       "      <td>0.120176</td>\n",
       "      <td>A</td>\n",
       "      <td>0.004857</td>\n",
       "      <td>0.790233</td>\n",
       "      <td>A</td>\n",
       "    </tr>\n",
       "  </tbody>\n",
       "</table>\n",
       "</div>"
      ],
      "text/plain": [
       "                            article_name  total_quantity  \\\n",
       "134       Хинкали с говядиной и свининой          282235   \n",
       "133      Хинкали с бараниной и говядиной          247748   \n",
       "136        Хинкали с мраморной говядиной          163556   \n",
       "5     4шт Хинкали с говядиной и свининой          124508   \n",
       "4    4шт Хинкали с бараниной и говядиной           95851   \n",
       "\n",
       "     gross_sales  profit_coef  ABC  \\\n",
       "134     19265278     2.928124  AAA   \n",
       "133     16906222     2.058434  AAA   \n",
       "136     11174301     3.039062  AAA   \n",
       "5       34198160     3.034428  AAA   \n",
       "4       26315940     1.999417  AAA   \n",
       "\n",
       "     relative_total_quantity  cumsum_total_quantity  \\\n",
       "134                 0.117014               0.117014   \n",
       "133                 0.102715               0.219729   \n",
       "136                 0.067810               0.287539   \n",
       "5                   0.051621               0.395242   \n",
       "4                   0.039739               0.434982   \n",
       "\n",
       "    abc_total_quantity  relative_gross_sales  \\\n",
       "134                  A              0.038259   \n",
       "133                  A              0.033574   \n",
       "136                  A              0.022191   \n",
       "5                    A              0.067915   \n",
       "4                    A              0.052261   \n",
       "\n",
       "     cumsum_gross_sales abc_gross_sales  \\\n",
       "134            0.199984               A   \n",
       "133            0.341805               A   \n",
       "136            0.453999               A   \n",
       "5              0.067915               A   \n",
       "4              0.120176               A   \n",
       "\n",
       "     relative_profit_coef  cumsum_profit_coef  \\\n",
       "134              0.007113            0.503663   \n",
       "133              0.005000            0.765587   \n",
       "136              0.007382            0.445346   \n",
       "5                0.007371            0.452718   \n",
       "4                0.004857            0.790233   \n",
       "\n",
       "    abc_profit_coef  \n",
       "134               A  \n",
       "133               A  \n",
       "136               A  \n",
       "5                 A  \n",
       "4                 A  "
      ]
     },
     "execution_count": 66,
     "metadata": {},
     "output_type": "execute_result"
    }
   ],
   "source": [
    "df_food_abc[df_food_abc['ABC']=='AAA'].sort_values(by='total_quantity', ascending=False).head()"
   ]
  },
  {
   "cell_type": "code",
   "execution_count": 67,
   "id": "9618e8bf",
   "metadata": {
    "ExecuteTime": {
     "end_time": "2024-01-15T07:59:41.210949Z",
     "start_time": "2024-01-15T07:59:41.187880Z"
    }
   },
   "outputs": [
    {
     "data": {
      "text/html": [
       "<div>\n",
       "<style scoped>\n",
       "    .dataframe tbody tr th:only-of-type {\n",
       "        vertical-align: middle;\n",
       "    }\n",
       "\n",
       "    .dataframe tbody tr th {\n",
       "        vertical-align: top;\n",
       "    }\n",
       "\n",
       "    .dataframe thead th {\n",
       "        text-align: right;\n",
       "    }\n",
       "</style>\n",
       "<table border=\"1\" class=\"dataframe\">\n",
       "  <thead>\n",
       "    <tr style=\"text-align: right;\">\n",
       "      <th></th>\n",
       "      <th>article_name</th>\n",
       "      <th>total_quantity</th>\n",
       "      <th>gross_sales</th>\n",
       "      <th>profit_coef</th>\n",
       "      <th>ABC</th>\n",
       "      <th>relative_total_quantity</th>\n",
       "      <th>cumsum_total_quantity</th>\n",
       "      <th>abc_total_quantity</th>\n",
       "      <th>relative_gross_sales</th>\n",
       "      <th>cumsum_gross_sales</th>\n",
       "      <th>abc_gross_sales</th>\n",
       "      <th>relative_profit_coef</th>\n",
       "      <th>cumsum_profit_coef</th>\n",
       "      <th>abc_profit_coef</th>\n",
       "    </tr>\n",
       "  </thead>\n",
       "  <tbody>\n",
       "    <tr>\n",
       "      <th>76</th>\n",
       "      <td>Орех грецкий топпинг</td>\n",
       "      <td>97</td>\n",
       "      <td>4850</td>\n",
       "      <td>0.425793</td>\n",
       "      <td>CCC</td>\n",
       "      <td>0.000040</td>\n",
       "      <td>0.999540</td>\n",
       "      <td>C</td>\n",
       "      <td>0.000010</td>\n",
       "      <td>0.999885</td>\n",
       "      <td>C</td>\n",
       "      <td>0.001034</td>\n",
       "      <td>0.999087</td>\n",
       "      <td>C</td>\n",
       "    </tr>\n",
       "    <tr>\n",
       "      <th>18</th>\n",
       "      <td>Бастурма 30 гр</td>\n",
       "      <td>56</td>\n",
       "      <td>14430</td>\n",
       "      <td>0.744414</td>\n",
       "      <td>CCC</td>\n",
       "      <td>0.000023</td>\n",
       "      <td>0.999757</td>\n",
       "      <td>C</td>\n",
       "      <td>0.000029</td>\n",
       "      <td>0.999713</td>\n",
       "      <td>C</td>\n",
       "      <td>0.001808</td>\n",
       "      <td>0.988408</td>\n",
       "      <td>C</td>\n",
       "    </tr>\n",
       "    <tr>\n",
       "      <th>121</th>\n",
       "      <td>Сыр чечил копченый 30 гр</td>\n",
       "      <td>41</td>\n",
       "      <td>2460</td>\n",
       "      <td>1.247762</td>\n",
       "      <td>CCC</td>\n",
       "      <td>0.000017</td>\n",
       "      <td>0.999911</td>\n",
       "      <td>C</td>\n",
       "      <td>0.000005</td>\n",
       "      <td>0.999980</td>\n",
       "      <td>C</td>\n",
       "      <td>0.003031</td>\n",
       "      <td>0.958067</td>\n",
       "      <td>C</td>\n",
       "    </tr>\n",
       "    <tr>\n",
       "      <th>69</th>\n",
       "      <td>Огурцы маринованные 50 гр</td>\n",
       "      <td>41</td>\n",
       "      <td>2050</td>\n",
       "      <td>0.970128</td>\n",
       "      <td>CCC</td>\n",
       "      <td>0.000017</td>\n",
       "      <td>0.999894</td>\n",
       "      <td>C</td>\n",
       "      <td>0.000004</td>\n",
       "      <td>0.999997</td>\n",
       "      <td>C</td>\n",
       "      <td>0.002357</td>\n",
       "      <td>0.974018</td>\n",
       "      <td>C</td>\n",
       "    </tr>\n",
       "    <tr>\n",
       "      <th>110</th>\n",
       "      <td>Соус табаско 10 гр</td>\n",
       "      <td>23</td>\n",
       "      <td>2070</td>\n",
       "      <td>0.485028</td>\n",
       "      <td>CCC</td>\n",
       "      <td>0.000010</td>\n",
       "      <td>0.999947</td>\n",
       "      <td>C</td>\n",
       "      <td>0.000004</td>\n",
       "      <td>0.999989</td>\n",
       "      <td>C</td>\n",
       "      <td>0.001178</td>\n",
       "      <td>0.998053</td>\n",
       "      <td>C</td>\n",
       "    </tr>\n",
       "  </tbody>\n",
       "</table>\n",
       "</div>"
      ],
      "text/plain": [
       "                  article_name  total_quantity  \\\n",
       "76        Орех грецкий топпинг              97   \n",
       "18              Бастурма 30 гр              56   \n",
       "121   Сыр чечил копченый 30 гр              41   \n",
       "69   Огурцы маринованные 50 гр              41   \n",
       "110         Соус табаско 10 гр              23   \n",
       "\n",
       "     gross_sales  profit_coef  ABC  \\\n",
       "76          4850     0.425793  CCC   \n",
       "18         14430     0.744414  CCC   \n",
       "121         2460     1.247762  CCC   \n",
       "69          2050     0.970128  CCC   \n",
       "110         2070     0.485028  CCC   \n",
       "\n",
       "     relative_total_quantity  cumsum_total_quantity  \\\n",
       "76                  0.000040               0.999540   \n",
       "18                  0.000023               0.999757   \n",
       "121                 0.000017               0.999911   \n",
       "69                  0.000017               0.999894   \n",
       "110                 0.000010               0.999947   \n",
       "\n",
       "    abc_total_quantity  relative_gross_sales  \\\n",
       "76                   C              0.000010   \n",
       "18                   C              0.000029   \n",
       "121                  C              0.000005   \n",
       "69                   C              0.000004   \n",
       "110                  C              0.000004   \n",
       "\n",
       "     cumsum_gross_sales abc_gross_sales  \\\n",
       "76             0.999885               C   \n",
       "18             0.999713               C   \n",
       "121            0.999980               C   \n",
       "69             0.999997               C   \n",
       "110            0.999989               C   \n",
       "\n",
       "     relative_profit_coef  cumsum_profit_coef  \\\n",
       "76               0.001034            0.999087   \n",
       "18               0.001808            0.988408   \n",
       "121              0.003031            0.958067   \n",
       "69               0.002357            0.974018   \n",
       "110              0.001178            0.998053   \n",
       "\n",
       "    abc_profit_coef  \n",
       "76                C  \n",
       "18                C  \n",
       "121               C  \n",
       "69                C  \n",
       "110               C  "
      ]
     },
     "execution_count": 67,
     "metadata": {},
     "output_type": "execute_result"
    }
   ],
   "source": [
    "df_food_abc[df_food_abc['ABC']=='CCC'].sort_values(by='total_quantity', ascending=False).tail()"
   ]
  },
  {
   "cell_type": "code",
   "execution_count": null,
   "id": "ca0310cb",
   "metadata": {},
   "outputs": [],
   "source": []
  },
  {
   "cell_type": "markdown",
   "id": "281dee0f",
   "metadata": {},
   "source": [
    "### Визуализация групп"
   ]
  },
  {
   "cell_type": "code",
   "execution_count": 68,
   "id": "5e31d263",
   "metadata": {
    "ExecuteTime": {
     "end_time": "2024-01-15T07:59:41.231314Z",
     "start_time": "2024-01-15T07:59:41.210949Z"
    }
   },
   "outputs": [],
   "source": [
    "abc_groups = df_food_abc.groupby(by=['ABC'])['article_name'].count().reset_index().sort_values(by=['ABC'])"
   ]
  },
  {
   "cell_type": "code",
   "execution_count": 69,
   "id": "3441ce06",
   "metadata": {
    "ExecuteTime": {
     "end_time": "2024-01-15T07:59:41.251341Z",
     "start_time": "2024-01-15T07:59:41.231314Z"
    }
   },
   "outputs": [
    {
     "data": {
      "text/html": [
       "<div>\n",
       "<style scoped>\n",
       "    .dataframe tbody tr th:only-of-type {\n",
       "        vertical-align: middle;\n",
       "    }\n",
       "\n",
       "    .dataframe tbody tr th {\n",
       "        vertical-align: top;\n",
       "    }\n",
       "\n",
       "    .dataframe thead th {\n",
       "        text-align: right;\n",
       "    }\n",
       "</style>\n",
       "<table border=\"1\" class=\"dataframe\">\n",
       "  <thead>\n",
       "    <tr style=\"text-align: right;\">\n",
       "      <th></th>\n",
       "      <th>ABC</th>\n",
       "      <th>article_name</th>\n",
       "    </tr>\n",
       "  </thead>\n",
       "  <tbody>\n",
       "    <tr>\n",
       "      <th>0</th>\n",
       "      <td>AAA</td>\n",
       "      <td>16</td>\n",
       "    </tr>\n",
       "    <tr>\n",
       "      <th>1</th>\n",
       "      <td>AAB</td>\n",
       "      <td>6</td>\n",
       "    </tr>\n",
       "    <tr>\n",
       "      <th>2</th>\n",
       "      <td>AAC</td>\n",
       "      <td>2</td>\n",
       "    </tr>\n",
       "    <tr>\n",
       "      <th>3</th>\n",
       "      <td>ABA</td>\n",
       "      <td>5</td>\n",
       "    </tr>\n",
       "    <tr>\n",
       "      <th>4</th>\n",
       "      <td>ABB</td>\n",
       "      <td>1</td>\n",
       "    </tr>\n",
       "    <tr>\n",
       "      <th>5</th>\n",
       "      <td>ACA</td>\n",
       "      <td>1</td>\n",
       "    </tr>\n",
       "    <tr>\n",
       "      <th>6</th>\n",
       "      <td>BAA</td>\n",
       "      <td>4</td>\n",
       "    </tr>\n",
       "    <tr>\n",
       "      <th>7</th>\n",
       "      <td>BAB</td>\n",
       "      <td>9</td>\n",
       "    </tr>\n",
       "    <tr>\n",
       "      <th>8</th>\n",
       "      <td>BAC</td>\n",
       "      <td>2</td>\n",
       "    </tr>\n",
       "    <tr>\n",
       "      <th>9</th>\n",
       "      <td>BBA</td>\n",
       "      <td>9</td>\n",
       "    </tr>\n",
       "    <tr>\n",
       "      <th>10</th>\n",
       "      <td>BBB</td>\n",
       "      <td>2</td>\n",
       "    </tr>\n",
       "    <tr>\n",
       "      <th>11</th>\n",
       "      <td>BBC</td>\n",
       "      <td>3</td>\n",
       "    </tr>\n",
       "    <tr>\n",
       "      <th>12</th>\n",
       "      <td>BCA</td>\n",
       "      <td>2</td>\n",
       "    </tr>\n",
       "    <tr>\n",
       "      <th>13</th>\n",
       "      <td>BCB</td>\n",
       "      <td>1</td>\n",
       "    </tr>\n",
       "    <tr>\n",
       "      <th>14</th>\n",
       "      <td>BCC</td>\n",
       "      <td>4</td>\n",
       "    </tr>\n",
       "    <tr>\n",
       "      <th>15</th>\n",
       "      <td>CBA</td>\n",
       "      <td>3</td>\n",
       "    </tr>\n",
       "    <tr>\n",
       "      <th>16</th>\n",
       "      <td>CBB</td>\n",
       "      <td>4</td>\n",
       "    </tr>\n",
       "    <tr>\n",
       "      <th>17</th>\n",
       "      <td>CBC</td>\n",
       "      <td>3</td>\n",
       "    </tr>\n",
       "    <tr>\n",
       "      <th>18</th>\n",
       "      <td>CCA</td>\n",
       "      <td>62</td>\n",
       "    </tr>\n",
       "    <tr>\n",
       "      <th>19</th>\n",
       "      <td>CCB</td>\n",
       "      <td>14</td>\n",
       "    </tr>\n",
       "    <tr>\n",
       "      <th>20</th>\n",
       "      <td>CCC</td>\n",
       "      <td>10</td>\n",
       "    </tr>\n",
       "  </tbody>\n",
       "</table>\n",
       "</div>"
      ],
      "text/plain": [
       "    ABC  article_name\n",
       "0   AAA            16\n",
       "1   AAB             6\n",
       "2   AAC             2\n",
       "3   ABA             5\n",
       "4   ABB             1\n",
       "5   ACA             1\n",
       "6   BAA             4\n",
       "7   BAB             9\n",
       "8   BAC             2\n",
       "9   BBA             9\n",
       "10  BBB             2\n",
       "11  BBC             3\n",
       "12  BCA             2\n",
       "13  BCB             1\n",
       "14  BCC             4\n",
       "15  CBA             3\n",
       "16  CBB             4\n",
       "17  CBC             3\n",
       "18  CCA            62\n",
       "19  CCB            14\n",
       "20  CCC            10"
      ]
     },
     "execution_count": 69,
     "metadata": {},
     "output_type": "execute_result"
    }
   ],
   "source": [
    "abc_groups"
   ]
  },
  {
   "cell_type": "code",
   "execution_count": 70,
   "id": "5fc02fb7",
   "metadata": {
    "ExecuteTime": {
     "end_time": "2024-01-15T07:59:41.311398Z",
     "start_time": "2024-01-15T07:59:41.251341Z"
    }
   },
   "outputs": [
    {
     "data": {
      "application/vnd.plotly.v1+json": {
       "config": {
        "plotlyServerURL": "https://plot.ly"
       },
       "data": [
        {
         "branchvalues": "total",
         "domain": {
          "x": [
           0,
           1
          ],
          "y": [
           0,
           1
          ]
         },
         "hovertemplate": "labels=%{label}<br>article_name=%{value}<br>parent=%{parent}<br>id=%{id}<extra></extra>",
         "ids": [
          "AAA",
          "AAB",
          "AAC",
          "ABA",
          "ABB",
          "ACA",
          "BAA",
          "BAB",
          "BAC",
          "BBA",
          "BBB",
          "BBC",
          "BCA",
          "BCB",
          "BCC",
          "CBA",
          "CBB",
          "CBC",
          "CCA",
          "CCB",
          "CCC"
         ],
         "labels": [
          "AAA",
          "AAB",
          "AAC",
          "ABA",
          "ABB",
          "ACA",
          "BAA",
          "BAB",
          "BAC",
          "BBA",
          "BBB",
          "BBC",
          "BCA",
          "BCB",
          "BCC",
          "CBA",
          "CBB",
          "CBC",
          "CCA",
          "CCB",
          "CCC"
         ],
         "name": "",
         "parents": [
          "",
          "",
          "",
          "",
          "",
          "",
          "",
          "",
          "",
          "",
          "",
          "",
          "",
          "",
          "",
          "",
          "",
          "",
          "",
          "",
          ""
         ],
         "type": "treemap",
         "values": [
          16,
          6,
          2,
          5,
          1,
          1,
          4,
          9,
          2,
          9,
          2,
          3,
          2,
          1,
          4,
          3,
          4,
          3,
          62,
          14,
          10
         ]
        }
       ],
       "layout": {
        "legend": {
         "tracegroupgap": 0
        },
        "margin": {
         "t": 60
        },
        "template": {
         "data": {
          "bar": [
           {
            "error_x": {
             "color": "#2a3f5f"
            },
            "error_y": {
             "color": "#2a3f5f"
            },
            "marker": {
             "line": {
              "color": "#E5ECF6",
              "width": 0.5
             },
             "pattern": {
              "fillmode": "overlay",
              "size": 10,
              "solidity": 0.2
             }
            },
            "type": "bar"
           }
          ],
          "barpolar": [
           {
            "marker": {
             "line": {
              "color": "#E5ECF6",
              "width": 0.5
             },
             "pattern": {
              "fillmode": "overlay",
              "size": 10,
              "solidity": 0.2
             }
            },
            "type": "barpolar"
           }
          ],
          "carpet": [
           {
            "aaxis": {
             "endlinecolor": "#2a3f5f",
             "gridcolor": "white",
             "linecolor": "white",
             "minorgridcolor": "white",
             "startlinecolor": "#2a3f5f"
            },
            "baxis": {
             "endlinecolor": "#2a3f5f",
             "gridcolor": "white",
             "linecolor": "white",
             "minorgridcolor": "white",
             "startlinecolor": "#2a3f5f"
            },
            "type": "carpet"
           }
          ],
          "choropleth": [
           {
            "colorbar": {
             "outlinewidth": 0,
             "ticks": ""
            },
            "type": "choropleth"
           }
          ],
          "contour": [
           {
            "colorbar": {
             "outlinewidth": 0,
             "ticks": ""
            },
            "colorscale": [
             [
              0,
              "#0d0887"
             ],
             [
              0.1111111111111111,
              "#46039f"
             ],
             [
              0.2222222222222222,
              "#7201a8"
             ],
             [
              0.3333333333333333,
              "#9c179e"
             ],
             [
              0.4444444444444444,
              "#bd3786"
             ],
             [
              0.5555555555555556,
              "#d8576b"
             ],
             [
              0.6666666666666666,
              "#ed7953"
             ],
             [
              0.7777777777777778,
              "#fb9f3a"
             ],
             [
              0.8888888888888888,
              "#fdca26"
             ],
             [
              1,
              "#f0f921"
             ]
            ],
            "type": "contour"
           }
          ],
          "contourcarpet": [
           {
            "colorbar": {
             "outlinewidth": 0,
             "ticks": ""
            },
            "type": "contourcarpet"
           }
          ],
          "heatmap": [
           {
            "colorbar": {
             "outlinewidth": 0,
             "ticks": ""
            },
            "colorscale": [
             [
              0,
              "#0d0887"
             ],
             [
              0.1111111111111111,
              "#46039f"
             ],
             [
              0.2222222222222222,
              "#7201a8"
             ],
             [
              0.3333333333333333,
              "#9c179e"
             ],
             [
              0.4444444444444444,
              "#bd3786"
             ],
             [
              0.5555555555555556,
              "#d8576b"
             ],
             [
              0.6666666666666666,
              "#ed7953"
             ],
             [
              0.7777777777777778,
              "#fb9f3a"
             ],
             [
              0.8888888888888888,
              "#fdca26"
             ],
             [
              1,
              "#f0f921"
             ]
            ],
            "type": "heatmap"
           }
          ],
          "heatmapgl": [
           {
            "colorbar": {
             "outlinewidth": 0,
             "ticks": ""
            },
            "colorscale": [
             [
              0,
              "#0d0887"
             ],
             [
              0.1111111111111111,
              "#46039f"
             ],
             [
              0.2222222222222222,
              "#7201a8"
             ],
             [
              0.3333333333333333,
              "#9c179e"
             ],
             [
              0.4444444444444444,
              "#bd3786"
             ],
             [
              0.5555555555555556,
              "#d8576b"
             ],
             [
              0.6666666666666666,
              "#ed7953"
             ],
             [
              0.7777777777777778,
              "#fb9f3a"
             ],
             [
              0.8888888888888888,
              "#fdca26"
             ],
             [
              1,
              "#f0f921"
             ]
            ],
            "type": "heatmapgl"
           }
          ],
          "histogram": [
           {
            "marker": {
             "pattern": {
              "fillmode": "overlay",
              "size": 10,
              "solidity": 0.2
             }
            },
            "type": "histogram"
           }
          ],
          "histogram2d": [
           {
            "colorbar": {
             "outlinewidth": 0,
             "ticks": ""
            },
            "colorscale": [
             [
              0,
              "#0d0887"
             ],
             [
              0.1111111111111111,
              "#46039f"
             ],
             [
              0.2222222222222222,
              "#7201a8"
             ],
             [
              0.3333333333333333,
              "#9c179e"
             ],
             [
              0.4444444444444444,
              "#bd3786"
             ],
             [
              0.5555555555555556,
              "#d8576b"
             ],
             [
              0.6666666666666666,
              "#ed7953"
             ],
             [
              0.7777777777777778,
              "#fb9f3a"
             ],
             [
              0.8888888888888888,
              "#fdca26"
             ],
             [
              1,
              "#f0f921"
             ]
            ],
            "type": "histogram2d"
           }
          ],
          "histogram2dcontour": [
           {
            "colorbar": {
             "outlinewidth": 0,
             "ticks": ""
            },
            "colorscale": [
             [
              0,
              "#0d0887"
             ],
             [
              0.1111111111111111,
              "#46039f"
             ],
             [
              0.2222222222222222,
              "#7201a8"
             ],
             [
              0.3333333333333333,
              "#9c179e"
             ],
             [
              0.4444444444444444,
              "#bd3786"
             ],
             [
              0.5555555555555556,
              "#d8576b"
             ],
             [
              0.6666666666666666,
              "#ed7953"
             ],
             [
              0.7777777777777778,
              "#fb9f3a"
             ],
             [
              0.8888888888888888,
              "#fdca26"
             ],
             [
              1,
              "#f0f921"
             ]
            ],
            "type": "histogram2dcontour"
           }
          ],
          "mesh3d": [
           {
            "colorbar": {
             "outlinewidth": 0,
             "ticks": ""
            },
            "type": "mesh3d"
           }
          ],
          "parcoords": [
           {
            "line": {
             "colorbar": {
              "outlinewidth": 0,
              "ticks": ""
             }
            },
            "type": "parcoords"
           }
          ],
          "pie": [
           {
            "automargin": true,
            "type": "pie"
           }
          ],
          "scatter": [
           {
            "marker": {
             "colorbar": {
              "outlinewidth": 0,
              "ticks": ""
             }
            },
            "type": "scatter"
           }
          ],
          "scatter3d": [
           {
            "line": {
             "colorbar": {
              "outlinewidth": 0,
              "ticks": ""
             }
            },
            "marker": {
             "colorbar": {
              "outlinewidth": 0,
              "ticks": ""
             }
            },
            "type": "scatter3d"
           }
          ],
          "scattercarpet": [
           {
            "marker": {
             "colorbar": {
              "outlinewidth": 0,
              "ticks": ""
             }
            },
            "type": "scattercarpet"
           }
          ],
          "scattergeo": [
           {
            "marker": {
             "colorbar": {
              "outlinewidth": 0,
              "ticks": ""
             }
            },
            "type": "scattergeo"
           }
          ],
          "scattergl": [
           {
            "marker": {
             "colorbar": {
              "outlinewidth": 0,
              "ticks": ""
             }
            },
            "type": "scattergl"
           }
          ],
          "scattermapbox": [
           {
            "marker": {
             "colorbar": {
              "outlinewidth": 0,
              "ticks": ""
             }
            },
            "type": "scattermapbox"
           }
          ],
          "scatterpolar": [
           {
            "marker": {
             "colorbar": {
              "outlinewidth": 0,
              "ticks": ""
             }
            },
            "type": "scatterpolar"
           }
          ],
          "scatterpolargl": [
           {
            "marker": {
             "colorbar": {
              "outlinewidth": 0,
              "ticks": ""
             }
            },
            "type": "scatterpolargl"
           }
          ],
          "scatterternary": [
           {
            "marker": {
             "colorbar": {
              "outlinewidth": 0,
              "ticks": ""
             }
            },
            "type": "scatterternary"
           }
          ],
          "surface": [
           {
            "colorbar": {
             "outlinewidth": 0,
             "ticks": ""
            },
            "colorscale": [
             [
              0,
              "#0d0887"
             ],
             [
              0.1111111111111111,
              "#46039f"
             ],
             [
              0.2222222222222222,
              "#7201a8"
             ],
             [
              0.3333333333333333,
              "#9c179e"
             ],
             [
              0.4444444444444444,
              "#bd3786"
             ],
             [
              0.5555555555555556,
              "#d8576b"
             ],
             [
              0.6666666666666666,
              "#ed7953"
             ],
             [
              0.7777777777777778,
              "#fb9f3a"
             ],
             [
              0.8888888888888888,
              "#fdca26"
             ],
             [
              1,
              "#f0f921"
             ]
            ],
            "type": "surface"
           }
          ],
          "table": [
           {
            "cells": {
             "fill": {
              "color": "#EBF0F8"
             },
             "line": {
              "color": "white"
             }
            },
            "header": {
             "fill": {
              "color": "#C8D4E3"
             },
             "line": {
              "color": "white"
             }
            },
            "type": "table"
           }
          ]
         },
         "layout": {
          "annotationdefaults": {
           "arrowcolor": "#2a3f5f",
           "arrowhead": 0,
           "arrowwidth": 1
          },
          "autotypenumbers": "strict",
          "coloraxis": {
           "colorbar": {
            "outlinewidth": 0,
            "ticks": ""
           }
          },
          "colorscale": {
           "diverging": [
            [
             0,
             "#8e0152"
            ],
            [
             0.1,
             "#c51b7d"
            ],
            [
             0.2,
             "#de77ae"
            ],
            [
             0.3,
             "#f1b6da"
            ],
            [
             0.4,
             "#fde0ef"
            ],
            [
             0.5,
             "#f7f7f7"
            ],
            [
             0.6,
             "#e6f5d0"
            ],
            [
             0.7,
             "#b8e186"
            ],
            [
             0.8,
             "#7fbc41"
            ],
            [
             0.9,
             "#4d9221"
            ],
            [
             1,
             "#276419"
            ]
           ],
           "sequential": [
            [
             0,
             "#0d0887"
            ],
            [
             0.1111111111111111,
             "#46039f"
            ],
            [
             0.2222222222222222,
             "#7201a8"
            ],
            [
             0.3333333333333333,
             "#9c179e"
            ],
            [
             0.4444444444444444,
             "#bd3786"
            ],
            [
             0.5555555555555556,
             "#d8576b"
            ],
            [
             0.6666666666666666,
             "#ed7953"
            ],
            [
             0.7777777777777778,
             "#fb9f3a"
            ],
            [
             0.8888888888888888,
             "#fdca26"
            ],
            [
             1,
             "#f0f921"
            ]
           ],
           "sequentialminus": [
            [
             0,
             "#0d0887"
            ],
            [
             0.1111111111111111,
             "#46039f"
            ],
            [
             0.2222222222222222,
             "#7201a8"
            ],
            [
             0.3333333333333333,
             "#9c179e"
            ],
            [
             0.4444444444444444,
             "#bd3786"
            ],
            [
             0.5555555555555556,
             "#d8576b"
            ],
            [
             0.6666666666666666,
             "#ed7953"
            ],
            [
             0.7777777777777778,
             "#fb9f3a"
            ],
            [
             0.8888888888888888,
             "#fdca26"
            ],
            [
             1,
             "#f0f921"
            ]
           ]
          },
          "colorway": [
           "#636efa",
           "#EF553B",
           "#00cc96",
           "#ab63fa",
           "#FFA15A",
           "#19d3f3",
           "#FF6692",
           "#B6E880",
           "#FF97FF",
           "#FECB52"
          ],
          "font": {
           "color": "#2a3f5f"
          },
          "geo": {
           "bgcolor": "white",
           "lakecolor": "white",
           "landcolor": "#E5ECF6",
           "showlakes": true,
           "showland": true,
           "subunitcolor": "white"
          },
          "hoverlabel": {
           "align": "left"
          },
          "hovermode": "closest",
          "mapbox": {
           "style": "light"
          },
          "paper_bgcolor": "white",
          "plot_bgcolor": "#E5ECF6",
          "polar": {
           "angularaxis": {
            "gridcolor": "white",
            "linecolor": "white",
            "ticks": ""
           },
           "bgcolor": "#E5ECF6",
           "radialaxis": {
            "gridcolor": "white",
            "linecolor": "white",
            "ticks": ""
           }
          },
          "scene": {
           "xaxis": {
            "backgroundcolor": "#E5ECF6",
            "gridcolor": "white",
            "gridwidth": 2,
            "linecolor": "white",
            "showbackground": true,
            "ticks": "",
            "zerolinecolor": "white"
           },
           "yaxis": {
            "backgroundcolor": "#E5ECF6",
            "gridcolor": "white",
            "gridwidth": 2,
            "linecolor": "white",
            "showbackground": true,
            "ticks": "",
            "zerolinecolor": "white"
           },
           "zaxis": {
            "backgroundcolor": "#E5ECF6",
            "gridcolor": "white",
            "gridwidth": 2,
            "linecolor": "white",
            "showbackground": true,
            "ticks": "",
            "zerolinecolor": "white"
           }
          },
          "shapedefaults": {
           "line": {
            "color": "#2a3f5f"
           }
          },
          "ternary": {
           "aaxis": {
            "gridcolor": "white",
            "linecolor": "white",
            "ticks": ""
           },
           "baxis": {
            "gridcolor": "white",
            "linecolor": "white",
            "ticks": ""
           },
           "bgcolor": "#E5ECF6",
           "caxis": {
            "gridcolor": "white",
            "linecolor": "white",
            "ticks": ""
           }
          },
          "title": {
           "x": 0.05
          },
          "xaxis": {
           "automargin": true,
           "gridcolor": "white",
           "linecolor": "white",
           "ticks": "",
           "title": {
            "standoff": 15
           },
           "zerolinecolor": "white",
           "zerolinewidth": 2
          },
          "yaxis": {
           "automargin": true,
           "gridcolor": "white",
           "linecolor": "white",
           "ticks": "",
           "title": {
            "standoff": 15
           },
           "zerolinecolor": "white",
           "zerolinewidth": 2
          }
         }
        }
       }
      },
      "text/html": [
       "<div>                            <div id=\"baec538d-45a3-4a8b-ad63-e65f3f8c0da4\" class=\"plotly-graph-div\" style=\"height:525px; width:100%;\"></div>            <script type=\"text/javascript\">                require([\"plotly\"], function(Plotly) {                    window.PLOTLYENV=window.PLOTLYENV || {};                                    if (document.getElementById(\"baec538d-45a3-4a8b-ad63-e65f3f8c0da4\")) {                    Plotly.newPlot(                        \"baec538d-45a3-4a8b-ad63-e65f3f8c0da4\",                        [{\"branchvalues\":\"total\",\"domain\":{\"x\":[0.0,1.0],\"y\":[0.0,1.0]},\"hovertemplate\":\"labels=%{label}<br>article_name=%{value}<br>parent=%{parent}<br>id=%{id}<extra></extra>\",\"ids\":[\"AAA\",\"AAB\",\"AAC\",\"ABA\",\"ABB\",\"ACA\",\"BAA\",\"BAB\",\"BAC\",\"BBA\",\"BBB\",\"BBC\",\"BCA\",\"BCB\",\"BCC\",\"CBA\",\"CBB\",\"CBC\",\"CCA\",\"CCB\",\"CCC\"],\"labels\":[\"AAA\",\"AAB\",\"AAC\",\"ABA\",\"ABB\",\"ACA\",\"BAA\",\"BAB\",\"BAC\",\"BBA\",\"BBB\",\"BBC\",\"BCA\",\"BCB\",\"BCC\",\"CBA\",\"CBB\",\"CBC\",\"CCA\",\"CCB\",\"CCC\"],\"name\":\"\",\"parents\":[\"\",\"\",\"\",\"\",\"\",\"\",\"\",\"\",\"\",\"\",\"\",\"\",\"\",\"\",\"\",\"\",\"\",\"\",\"\",\"\",\"\"],\"values\":[16,6,2,5,1,1,4,9,2,9,2,3,2,1,4,3,4,3,62,14,10],\"type\":\"treemap\"}],                        {\"template\":{\"data\":{\"bar\":[{\"error_x\":{\"color\":\"#2a3f5f\"},\"error_y\":{\"color\":\"#2a3f5f\"},\"marker\":{\"line\":{\"color\":\"#E5ECF6\",\"width\":0.5},\"pattern\":{\"fillmode\":\"overlay\",\"size\":10,\"solidity\":0.2}},\"type\":\"bar\"}],\"barpolar\":[{\"marker\":{\"line\":{\"color\":\"#E5ECF6\",\"width\":0.5},\"pattern\":{\"fillmode\":\"overlay\",\"size\":10,\"solidity\":0.2}},\"type\":\"barpolar\"}],\"carpet\":[{\"aaxis\":{\"endlinecolor\":\"#2a3f5f\",\"gridcolor\":\"white\",\"linecolor\":\"white\",\"minorgridcolor\":\"white\",\"startlinecolor\":\"#2a3f5f\"},\"baxis\":{\"endlinecolor\":\"#2a3f5f\",\"gridcolor\":\"white\",\"linecolor\":\"white\",\"minorgridcolor\":\"white\",\"startlinecolor\":\"#2a3f5f\"},\"type\":\"carpet\"}],\"choropleth\":[{\"colorbar\":{\"outlinewidth\":0,\"ticks\":\"\"},\"type\":\"choropleth\"}],\"contour\":[{\"colorbar\":{\"outlinewidth\":0,\"ticks\":\"\"},\"colorscale\":[[0.0,\"#0d0887\"],[0.1111111111111111,\"#46039f\"],[0.2222222222222222,\"#7201a8\"],[0.3333333333333333,\"#9c179e\"],[0.4444444444444444,\"#bd3786\"],[0.5555555555555556,\"#d8576b\"],[0.6666666666666666,\"#ed7953\"],[0.7777777777777778,\"#fb9f3a\"],[0.8888888888888888,\"#fdca26\"],[1.0,\"#f0f921\"]],\"type\":\"contour\"}],\"contourcarpet\":[{\"colorbar\":{\"outlinewidth\":0,\"ticks\":\"\"},\"type\":\"contourcarpet\"}],\"heatmap\":[{\"colorbar\":{\"outlinewidth\":0,\"ticks\":\"\"},\"colorscale\":[[0.0,\"#0d0887\"],[0.1111111111111111,\"#46039f\"],[0.2222222222222222,\"#7201a8\"],[0.3333333333333333,\"#9c179e\"],[0.4444444444444444,\"#bd3786\"],[0.5555555555555556,\"#d8576b\"],[0.6666666666666666,\"#ed7953\"],[0.7777777777777778,\"#fb9f3a\"],[0.8888888888888888,\"#fdca26\"],[1.0,\"#f0f921\"]],\"type\":\"heatmap\"}],\"heatmapgl\":[{\"colorbar\":{\"outlinewidth\":0,\"ticks\":\"\"},\"colorscale\":[[0.0,\"#0d0887\"],[0.1111111111111111,\"#46039f\"],[0.2222222222222222,\"#7201a8\"],[0.3333333333333333,\"#9c179e\"],[0.4444444444444444,\"#bd3786\"],[0.5555555555555556,\"#d8576b\"],[0.6666666666666666,\"#ed7953\"],[0.7777777777777778,\"#fb9f3a\"],[0.8888888888888888,\"#fdca26\"],[1.0,\"#f0f921\"]],\"type\":\"heatmapgl\"}],\"histogram\":[{\"marker\":{\"pattern\":{\"fillmode\":\"overlay\",\"size\":10,\"solidity\":0.2}},\"type\":\"histogram\"}],\"histogram2d\":[{\"colorbar\":{\"outlinewidth\":0,\"ticks\":\"\"},\"colorscale\":[[0.0,\"#0d0887\"],[0.1111111111111111,\"#46039f\"],[0.2222222222222222,\"#7201a8\"],[0.3333333333333333,\"#9c179e\"],[0.4444444444444444,\"#bd3786\"],[0.5555555555555556,\"#d8576b\"],[0.6666666666666666,\"#ed7953\"],[0.7777777777777778,\"#fb9f3a\"],[0.8888888888888888,\"#fdca26\"],[1.0,\"#f0f921\"]],\"type\":\"histogram2d\"}],\"histogram2dcontour\":[{\"colorbar\":{\"outlinewidth\":0,\"ticks\":\"\"},\"colorscale\":[[0.0,\"#0d0887\"],[0.1111111111111111,\"#46039f\"],[0.2222222222222222,\"#7201a8\"],[0.3333333333333333,\"#9c179e\"],[0.4444444444444444,\"#bd3786\"],[0.5555555555555556,\"#d8576b\"],[0.6666666666666666,\"#ed7953\"],[0.7777777777777778,\"#fb9f3a\"],[0.8888888888888888,\"#fdca26\"],[1.0,\"#f0f921\"]],\"type\":\"histogram2dcontour\"}],\"mesh3d\":[{\"colorbar\":{\"outlinewidth\":0,\"ticks\":\"\"},\"type\":\"mesh3d\"}],\"parcoords\":[{\"line\":{\"colorbar\":{\"outlinewidth\":0,\"ticks\":\"\"}},\"type\":\"parcoords\"}],\"pie\":[{\"automargin\":true,\"type\":\"pie\"}],\"scatter\":[{\"marker\":{\"colorbar\":{\"outlinewidth\":0,\"ticks\":\"\"}},\"type\":\"scatter\"}],\"scatter3d\":[{\"line\":{\"colorbar\":{\"outlinewidth\":0,\"ticks\":\"\"}},\"marker\":{\"colorbar\":{\"outlinewidth\":0,\"ticks\":\"\"}},\"type\":\"scatter3d\"}],\"scattercarpet\":[{\"marker\":{\"colorbar\":{\"outlinewidth\":0,\"ticks\":\"\"}},\"type\":\"scattercarpet\"}],\"scattergeo\":[{\"marker\":{\"colorbar\":{\"outlinewidth\":0,\"ticks\":\"\"}},\"type\":\"scattergeo\"}],\"scattergl\":[{\"marker\":{\"colorbar\":{\"outlinewidth\":0,\"ticks\":\"\"}},\"type\":\"scattergl\"}],\"scattermapbox\":[{\"marker\":{\"colorbar\":{\"outlinewidth\":0,\"ticks\":\"\"}},\"type\":\"scattermapbox\"}],\"scatterpolar\":[{\"marker\":{\"colorbar\":{\"outlinewidth\":0,\"ticks\":\"\"}},\"type\":\"scatterpolar\"}],\"scatterpolargl\":[{\"marker\":{\"colorbar\":{\"outlinewidth\":0,\"ticks\":\"\"}},\"type\":\"scatterpolargl\"}],\"scatterternary\":[{\"marker\":{\"colorbar\":{\"outlinewidth\":0,\"ticks\":\"\"}},\"type\":\"scatterternary\"}],\"surface\":[{\"colorbar\":{\"outlinewidth\":0,\"ticks\":\"\"},\"colorscale\":[[0.0,\"#0d0887\"],[0.1111111111111111,\"#46039f\"],[0.2222222222222222,\"#7201a8\"],[0.3333333333333333,\"#9c179e\"],[0.4444444444444444,\"#bd3786\"],[0.5555555555555556,\"#d8576b\"],[0.6666666666666666,\"#ed7953\"],[0.7777777777777778,\"#fb9f3a\"],[0.8888888888888888,\"#fdca26\"],[1.0,\"#f0f921\"]],\"type\":\"surface\"}],\"table\":[{\"cells\":{\"fill\":{\"color\":\"#EBF0F8\"},\"line\":{\"color\":\"white\"}},\"header\":{\"fill\":{\"color\":\"#C8D4E3\"},\"line\":{\"color\":\"white\"}},\"type\":\"table\"}]},\"layout\":{\"annotationdefaults\":{\"arrowcolor\":\"#2a3f5f\",\"arrowhead\":0,\"arrowwidth\":1},\"autotypenumbers\":\"strict\",\"coloraxis\":{\"colorbar\":{\"outlinewidth\":0,\"ticks\":\"\"}},\"colorscale\":{\"diverging\":[[0,\"#8e0152\"],[0.1,\"#c51b7d\"],[0.2,\"#de77ae\"],[0.3,\"#f1b6da\"],[0.4,\"#fde0ef\"],[0.5,\"#f7f7f7\"],[0.6,\"#e6f5d0\"],[0.7,\"#b8e186\"],[0.8,\"#7fbc41\"],[0.9,\"#4d9221\"],[1,\"#276419\"]],\"sequential\":[[0.0,\"#0d0887\"],[0.1111111111111111,\"#46039f\"],[0.2222222222222222,\"#7201a8\"],[0.3333333333333333,\"#9c179e\"],[0.4444444444444444,\"#bd3786\"],[0.5555555555555556,\"#d8576b\"],[0.6666666666666666,\"#ed7953\"],[0.7777777777777778,\"#fb9f3a\"],[0.8888888888888888,\"#fdca26\"],[1.0,\"#f0f921\"]],\"sequentialminus\":[[0.0,\"#0d0887\"],[0.1111111111111111,\"#46039f\"],[0.2222222222222222,\"#7201a8\"],[0.3333333333333333,\"#9c179e\"],[0.4444444444444444,\"#bd3786\"],[0.5555555555555556,\"#d8576b\"],[0.6666666666666666,\"#ed7953\"],[0.7777777777777778,\"#fb9f3a\"],[0.8888888888888888,\"#fdca26\"],[1.0,\"#f0f921\"]]},\"colorway\":[\"#636efa\",\"#EF553B\",\"#00cc96\",\"#ab63fa\",\"#FFA15A\",\"#19d3f3\",\"#FF6692\",\"#B6E880\",\"#FF97FF\",\"#FECB52\"],\"font\":{\"color\":\"#2a3f5f\"},\"geo\":{\"bgcolor\":\"white\",\"lakecolor\":\"white\",\"landcolor\":\"#E5ECF6\",\"showlakes\":true,\"showland\":true,\"subunitcolor\":\"white\"},\"hoverlabel\":{\"align\":\"left\"},\"hovermode\":\"closest\",\"mapbox\":{\"style\":\"light\"},\"paper_bgcolor\":\"white\",\"plot_bgcolor\":\"#E5ECF6\",\"polar\":{\"angularaxis\":{\"gridcolor\":\"white\",\"linecolor\":\"white\",\"ticks\":\"\"},\"bgcolor\":\"#E5ECF6\",\"radialaxis\":{\"gridcolor\":\"white\",\"linecolor\":\"white\",\"ticks\":\"\"}},\"scene\":{\"xaxis\":{\"backgroundcolor\":\"#E5ECF6\",\"gridcolor\":\"white\",\"gridwidth\":2,\"linecolor\":\"white\",\"showbackground\":true,\"ticks\":\"\",\"zerolinecolor\":\"white\"},\"yaxis\":{\"backgroundcolor\":\"#E5ECF6\",\"gridcolor\":\"white\",\"gridwidth\":2,\"linecolor\":\"white\",\"showbackground\":true,\"ticks\":\"\",\"zerolinecolor\":\"white\"},\"zaxis\":{\"backgroundcolor\":\"#E5ECF6\",\"gridcolor\":\"white\",\"gridwidth\":2,\"linecolor\":\"white\",\"showbackground\":true,\"ticks\":\"\",\"zerolinecolor\":\"white\"}},\"shapedefaults\":{\"line\":{\"color\":\"#2a3f5f\"}},\"ternary\":{\"aaxis\":{\"gridcolor\":\"white\",\"linecolor\":\"white\",\"ticks\":\"\"},\"baxis\":{\"gridcolor\":\"white\",\"linecolor\":\"white\",\"ticks\":\"\"},\"bgcolor\":\"#E5ECF6\",\"caxis\":{\"gridcolor\":\"white\",\"linecolor\":\"white\",\"ticks\":\"\"}},\"title\":{\"x\":0.05},\"xaxis\":{\"automargin\":true,\"gridcolor\":\"white\",\"linecolor\":\"white\",\"ticks\":\"\",\"title\":{\"standoff\":15},\"zerolinecolor\":\"white\",\"zerolinewidth\":2},\"yaxis\":{\"automargin\":true,\"gridcolor\":\"white\",\"linecolor\":\"white\",\"ticks\":\"\",\"title\":{\"standoff\":15},\"zerolinecolor\":\"white\",\"zerolinewidth\":2}}},\"legend\":{\"tracegroupgap\":0},\"margin\":{\"t\":60}},                        {\"responsive\": true}                    ).then(function(){\n",
       "                            \n",
       "var gd = document.getElementById('baec538d-45a3-4a8b-ad63-e65f3f8c0da4');\n",
       "var x = new MutationObserver(function (mutations, observer) {{\n",
       "        var display = window.getComputedStyle(gd).display;\n",
       "        if (!display || display === 'none') {{\n",
       "            console.log([gd, 'removed!']);\n",
       "            Plotly.purge(gd);\n",
       "            observer.disconnect();\n",
       "        }}\n",
       "}});\n",
       "\n",
       "// Listen for the removal of the full notebook cells\n",
       "var notebookContainer = gd.closest('#notebook-container');\n",
       "if (notebookContainer) {{\n",
       "    x.observe(notebookContainer, {childList: true});\n",
       "}}\n",
       "\n",
       "// Listen for the clearing of the current output cell\n",
       "var outputEl = gd.closest('.output');\n",
       "if (outputEl) {{\n",
       "    x.observe(outputEl, {childList: true});\n",
       "}}\n",
       "\n",
       "                        })                };                });            </script>        </div>"
      ]
     },
     "metadata": {},
     "output_type": "display_data"
    }
   ],
   "source": [
    "fig = px.treemap(abc_groups, path=['ABC'], values='article_name')\n",
    "fig.show()"
   ]
  },
  {
   "cell_type": "markdown",
   "id": "1fe35bb6",
   "metadata": {},
   "source": [
    "По количеству позиций наиболее многочисленная группа `CC*` (86 позиций - половина из всех), в чем для нас нет ничего неожиданного, т.к. она содержит много топпингов, добавок и соусов, без которых блюда могут стать весьма однообразными, особенно те, что составляют \"топ\" наших позиций - `AAA` - все хинкали, однако, эти позиции не являются основными.  "
   ]
  },
  {
   "cell_type": "markdown",
   "id": "9ff16ebd",
   "metadata": {},
   "source": [
    "Однако она содержит и позиции основного меню, по которым необходимо предпринимать действия для того, чтобы \"перетянуть\" их в группу `B`. Кроме того также и топпинги, и соусы возможно продавать больше, это повысит средний чек."
   ]
  },
  {
   "cell_type": "markdown",
   "id": "6485bcf5",
   "metadata": {},
   "source": [
    "## Выводы и рекомендации"
   ]
  },
  {
   "cell_type": "markdown",
   "id": "3e7c96a5",
   "metadata": {},
   "source": [
    "Основная задача `ABC-анализа` не в том, чтобы вывести те позиции, которые у нас \"не в топе\", а в том, чтобы понять, какие позиции и каким образом мы можем тянуть по этим группам вверх. "
   ]
  },
  {
   "cell_type": "markdown",
   "id": "bf3f1823",
   "metadata": {},
   "source": [
    "! `ABC-анализ` блюд необходимо делать совместно с `XYZ-анализом`, и рекомендации должны базироваться на результатах двух анализов."
   ]
  },
  {
   "cell_type": "markdown",
   "id": "803cb83e",
   "metadata": {
    "ExecuteTime": {
     "end_time": "2024-01-14T15:07:22.211758Z",
     "start_time": "2024-01-14T15:07:22.193806Z"
    }
   },
   "source": [
    "### Группа A**"
   ]
  },
  {
   "cell_type": "markdown",
   "id": "76c8fc7f",
   "metadata": {},
   "source": [
    "Группа A — самые важные позиции в меню, приносящие основную часть дохода, поэтому данные блюда настоятельно не рекомендуется убирать из меню. Данные позиции пользуются популярностью у гостей, вероятно многие гости посещают заведение именно с целью выбора блюд этой группы."
   ]
  },
  {
   "cell_type": "markdown",
   "id": "b688fec3",
   "metadata": {
    "ExecuteTime": {
     "end_time": "2024-01-14T14:11:25.742659Z",
     "start_time": "2024-01-14T14:11:25.736673Z"
    }
   },
   "source": [
    "__AAA__"
   ]
  },
  {
   "cell_type": "code",
   "execution_count": 71,
   "id": "e2cc0c30",
   "metadata": {
    "ExecuteTime": {
     "end_time": "2024-01-15T07:59:41.331009Z",
     "start_time": "2024-01-15T07:59:41.311398Z"
    }
   },
   "outputs": [
    {
     "name": "stdout",
     "output_type": "stream",
     "text": [
      "Дет. Хинкальки для малышей с мясом, \n",
      "Чебурек со свининой/говядиной, \n",
      "Соус чесночный, \n",
      "Хинкали с мраморной говядиной, \n",
      "4шт Хинкали с говядиной и свининой, \n",
      "4шт Хинкали с грибами, \n",
      "Хинкали с говядиной и свининой, \n",
      "4шт Хинкали с мраморной говядиной, \n",
      "Хинкали с грибами, \n",
      "Шампиньоны запеченные с сыром, \n",
      "Салат грузинский со специями, \n",
      "Микс хинкали 4шт, \n",
      "Салат с языком и гренками, \n",
      "Хинкали с бараниной и говядиной, \n",
      "Хачапури по-аджарски, \n",
      "4шт Хинкали с бараниной и говядиной\n"
     ]
    }
   ],
   "source": [
    "print(*list(df_food_abc[df_food_abc['ABC']=='AAA']['article_name'].unique()), sep=', \\n')"
   ]
  },
  {
   "cell_type": "markdown",
   "id": "34f5b82e",
   "metadata": {},
   "source": [
    "Это довольно многочисленная группа товаров с высоким объемом продаж, выручкой и прибылью. Задача: масштабировать успех. \n",
    "\n",
    "   - Цены: теоретически возможно немного поднять цены, так как эти товары пользуются большим спросом. По результатам `XYZ` анализа (проведенном в другом проекте) мы знаем, что эти позиции находятся в группе `X`, а именно обладают регулярным спросом. Если бы эти товары были в группе `Y`, `Z`, то лучше было бы вообще не поднимать цены (возможно, спрос в штуках был велик из-за акции на позиции) и сосредоточиться на том, чтобы переместить эти товары в группу `X`, а уже потом пытаться зарабатывать на них еще больше, чем сейчас. \n",
    "   - Реклама: Рекламировать для увеличения объема продаж не обязательно, так как они уже хорошо продаются. В нашем случае эти позиции являются самой сутью наших ресторанов, основным имиджевым (и не только) продуктом. \n",
    "   - Ассортимент: Необходимо обеспечить постоянное наличие этих товаров, чтобы предотвратить снижение продаж по причине невозможности удовлетворить весь спрос."
   ]
  },
  {
   "cell_type": "markdown",
   "id": "e864a196",
   "metadata": {},
   "source": [
    "__AAB, AAC, ABA, ABB__"
   ]
  },
  {
   "cell_type": "code",
   "execution_count": 72,
   "id": "de3b62e5",
   "metadata": {
    "ExecuteTime": {
     "end_time": "2024-01-15T07:59:41.351117Z",
     "start_time": "2024-01-15T07:59:41.331009Z"
    }
   },
   "outputs": [
    {
     "name": "stdout",
     "output_type": "stream",
     "text": [
      "Аджарик, \n",
      "Суп Харчо, \n",
      "Хачапури по-мегрельски, \n",
      "Цезарь по-восточному, \n",
      "Шашлык из свинины, \n",
      "Хинкали с сыром сулугуни\n"
     ]
    }
   ],
   "source": [
    "print(*list(df_food_abc[df_food_abc['ABC']=='AAB']['article_name'].unique()), sep=', \\n')"
   ]
  },
  {
   "cell_type": "code",
   "execution_count": 73,
   "id": "b055fdaa",
   "metadata": {
    "ExecuteTime": {
     "end_time": "2024-01-15T07:59:41.370836Z",
     "start_time": "2024-01-15T07:59:41.351117Z"
    }
   },
   "outputs": [
    {
     "name": "stdout",
     "output_type": "stream",
     "text": [
      "4шт Хинкали с сыром, \n",
      "Шашлык из куриного бедра\n"
     ]
    }
   ],
   "source": [
    "print(*list(df_food_abc[df_food_abc['ABC']=='AAC']['article_name'].unique()), sep=', \\n')"
   ]
  },
  {
   "cell_type": "code",
   "execution_count": 74,
   "id": "c9604af9",
   "metadata": {
    "ExecuteTime": {
     "end_time": "2024-01-15T07:59:41.388092Z",
     "start_time": "2024-01-15T07:59:41.370836Z"
    }
   },
   "outputs": [
    {
     "name": "stdout",
     "output_type": "stream",
     "text": [
      "Грузинский лаваш пури, \n",
      "Сацебели, \n",
      "Сметана, \n",
      "Аджика красная, \n",
      "Чебурек с бараниной/говядиной\n"
     ]
    }
   ],
   "source": [
    "print(*list(df_food_abc[df_food_abc['ABC']=='ABA']['article_name'].unique()), sep=', \\n')"
   ]
  },
  {
   "cell_type": "code",
   "execution_count": 75,
   "id": "1e3fd347",
   "metadata": {
    "ExecuteTime": {
     "end_time": "2024-01-15T07:59:41.411402Z",
     "start_time": "2024-01-15T07:59:41.388092Z"
    }
   },
   "outputs": [
    {
     "name": "stdout",
     "output_type": "stream",
     "text": [
      "Дет. Картофель фри\n"
     ]
    }
   ],
   "source": [
    "print(*list(df_food_abc[df_food_abc['ABC']=='ABB']['article_name'].unique()), sep=', \\n')"
   ]
  },
  {
   "cell_type": "markdown",
   "id": "0b54b466",
   "metadata": {},
   "source": [
    "Это позиции, которые хорошо продаются (в штуках), но имеют либо среднюю выручку, либо среднюю / низкую доходность. В нашем случае для `AAB` и `AAC` это происходит потому, что себестоимость их достаточно высока из-за продуктов, входящих в их состав, а для `ABA` из-за их невысокой цены (при небольшой себестоимости) и того, что они хорошо продаются потому что являются популярными спутниками хинкали, товара из группы `AAA`."
   ]
  },
  {
   "cell_type": "markdown",
   "id": "dc51e872",
   "metadata": {},
   "source": [
    "Для `AAB` и `AAC`: возможно сделать специальные предложения (например, комбо-наборы с этими блюдами в сочетании с блюдами, имеющими высокую маржинальность, например, из `AAA` или `CCA`). Комбо-набор может быть дешевле, чем суммарный заказ этих блюд по-отдельности, при этом бОльшая маржинальность второго товара сможет компенсировать скидку и повысить средний чек."
   ]
  },
  {
   "cell_type": "markdown",
   "id": "484a92e5",
   "metadata": {},
   "source": [
    "Для `AAB`, `ABB` и `AAC`: увеличить доходность за счет понижения себестоимости."
   ]
  },
  {
   "cell_type": "markdown",
   "id": "f9c6b7dd",
   "metadata": {},
   "source": [
    "### группа B**"
   ]
  },
  {
   "cell_type": "markdown",
   "id": "21a73d23",
   "metadata": {},
   "source": [
    "Эти блюда менее популярны, но при этом не игнорируются, и также приносят довольно значительную часть дохода. Позиции из данной группы рекомендуется \"перетянуть\" в группу `А`."
   ]
  },
  {
   "cell_type": "markdown",
   "id": "4fadeee7",
   "metadata": {},
   "source": [
    "Маркетинговые мероприятия:\n",
    "1. Проведение рекламных кампаний для привлечения внимания к этим блюдам с использованием зрелищных и привлекательных методов, чтобы увеличить спрос на них.\n",
    "2. Создание программ лояльности и специальных предложений для стимулирования повторной покупки данных блюд и увеличения среднего чека.\n",
    "3. Использование тактики кросс-продаж, предлагая дополнительные товары или услуги в связке с данными блюдами для увеличения среднего чека.\n",
    "\n",
    "Товарные мероприятия:\n",
    "1. Анализ ценовой политики, для максимизации прибыли с каждой продажи данных блюд без ущерба для их конкурентоспособности и спроса.\n",
    "2. Оптимизация процессов производства и поставок для эффективного управления запасами и снижения издержек производства.\n",
    "3. Развитие идеи комбо-предложений, позволяющих клиентам сэкономить на заказе данных блюд, что должно повысить их привлекательность."
   ]
  },
  {
   "cell_type": "code",
   "execution_count": 76,
   "id": "9a14d03a",
   "metadata": {
    "ExecuteTime": {
     "end_time": "2024-01-15T07:59:41.431315Z",
     "start_time": "2024-01-15T07:59:41.411402Z"
    }
   },
   "outputs": [
    {
     "name": "stdout",
     "output_type": "stream",
     "text": [
      "Чебуреки ассорти, \n",
      "Ассорти рулетиков с сыром надуги с мятой, \n",
      "Запеченный сыр сулугуни с овощами, \n",
      "Салат с баклажаном и сыром фета\n"
     ]
    }
   ],
   "source": [
    "print(*list(df_food_abc[df_food_abc['ABC']=='BAA']['article_name'].unique()), sep=', \\n')"
   ]
  },
  {
   "cell_type": "markdown",
   "id": "6810e686",
   "metadata": {},
   "source": [
    "`ВАА`- увеличить продажи, рекламируя товар, прививая любовь к блюду"
   ]
  },
  {
   "cell_type": "code",
   "execution_count": 77,
   "id": "e480f598",
   "metadata": {
    "ExecuteTime": {
     "end_time": "2024-01-15T07:59:41.451226Z",
     "start_time": "2024-01-15T07:59:41.431315Z"
    }
   },
   "outputs": [
    {
     "name": "stdout",
     "output_type": "stream",
     "text": [
      "Хачапури по-имеретински, \n",
      "Оджахури со свининой, \n",
      "Хачапургер, \n",
      "Салат Бабушки Нино, \n",
      "Долма с бараниной и говядиной, \n",
      "Ассорти закусок \"Кутаиси\", \n",
      "Мясное ассорти \"Садж\", \n",
      "Шашлык из индейки, \n",
      "Чашушули с говядиной\n"
     ]
    }
   ],
   "source": [
    "print(*list(df_food_abc[df_food_abc['ABC']=='BAB']['article_name'].unique()), sep=', \\n')"
   ]
  },
  {
   "cell_type": "code",
   "execution_count": 78,
   "id": "790f1b58",
   "metadata": {
    "ExecuteTime": {
     "end_time": "2024-01-15T07:59:41.466335Z",
     "start_time": "2024-01-15T07:59:41.451226Z"
    }
   },
   "outputs": [
    {
     "name": "stdout",
     "output_type": "stream",
     "text": [
      "Картофель по-домашнему, \n",
      "Пхали ассорти, \n",
      "Ассорти пхали на лаваше, \n",
      "Куриный бульон с пшеничной лапшой, \n",
      "Дет. Хинкальки для малышей с сыром, \n",
      "Мини-хинкали в бульоне, \n",
      "Овощи на гриле, \n",
      "Чебурек с сыром и зеленью, \n",
      "Салат с помидорами и красным луком\n"
     ]
    }
   ],
   "source": [
    "print(*list(df_food_abc[df_food_abc['ABC']=='BBA']['article_name'].unique()), sep=', \\n')"
   ]
  },
  {
   "cell_type": "markdown",
   "id": "4d6ae561",
   "metadata": {},
   "source": [
    "`ВАВ`, `BAB` - увеличить продажи и привить любовь к блюду (добавить в комбо-наборы с товарами `ААА`), чтобы перевести в группу `А`, увеличить доходность за счет понижения себестоимости"
   ]
  },
  {
   "cell_type": "code",
   "execution_count": 79,
   "id": "cb7318ed",
   "metadata": {
    "ExecuteTime": {
     "end_time": "2024-01-15T07:59:41.488339Z",
     "start_time": "2024-01-15T07:59:41.466335Z"
    }
   },
   "outputs": [
    {
     "name": "stdout",
     "output_type": "stream",
     "text": [
      "Чахохбили с цыпленком, \n",
      "Шаверма по-батумски\n"
     ]
    }
   ],
   "source": [
    "print(*list(df_food_abc[df_food_abc['ABC']=='BBB']['article_name'].unique()), sep=', \\n')"
   ]
  },
  {
   "cell_type": "markdown",
   "id": "02fa15aa",
   "metadata": {},
   "source": [
    "`ВВB`  - увеличить продажи и привить любовь к блюду (добавить в комбо-наборы с товарами `ААА`), чтобы перевести в группу `А`"
   ]
  },
  {
   "cell_type": "code",
   "execution_count": 80,
   "id": "e499a130",
   "metadata": {
    "ExecuteTime": {
     "end_time": "2024-01-15T07:59:41.511203Z",
     "start_time": "2024-01-15T07:59:41.488339Z"
    }
   },
   "outputs": [
    {
     "name": "stdout",
     "output_type": "stream",
     "text": [
      "Пицца Рача по-чкмерски, \n",
      "Дет. Пиццури с сыром и ветчиной, \n",
      "Суп Хашлама с бараниной и овощами\n"
     ]
    }
   ],
   "source": [
    "print(*list(df_food_abc[df_food_abc['ABC']=='BBC']['article_name'].unique()), sep=', \\n')"
   ]
  },
  {
   "cell_type": "markdown",
   "id": "dcbb2e7b",
   "metadata": {},
   "source": [
    "`ВBC`- увеличить доходность за счет понижения себестоимости"
   ]
  },
  {
   "cell_type": "markdown",
   "id": "5bc64eba",
   "metadata": {},
   "source": [
    "__BCA, BCC__"
   ]
  },
  {
   "cell_type": "markdown",
   "id": "8d407045",
   "metadata": {},
   "source": [
    "В данном случае получившиеся позиции в `BCA`, `BCC` - продолжение списка позиций в `CCA` (см.ниже) и рекомендации по ним те же. Для топпингов всегда предлагать для блюд `AAA`, класть в подарок на доставку и самовывоз, чтобы клиенты пробовали вкусные соусы и заказывали в следующий раз."
   ]
  },
  {
   "cell_type": "code",
   "execution_count": 81,
   "id": "839ea79f",
   "metadata": {
    "ExecuteTime": {
     "end_time": "2024-01-15T07:59:41.530984Z",
     "start_time": "2024-01-15T07:59:41.511203Z"
    }
   },
   "outputs": [
    {
     "name": "stdout",
     "output_type": "stream",
     "text": [
      "Дет. Куриный бульон с алфавитом, \n",
      "Баже\n"
     ]
    }
   ],
   "source": [
    "print(*list(df_food_abc[df_food_abc['ABC']=='BCA']['article_name'].unique()), sep=', \\n')"
   ]
  },
  {
   "cell_type": "code",
   "execution_count": 82,
   "id": "64a38fd3",
   "metadata": {
    "ExecuteTime": {
     "end_time": "2024-01-15T07:59:41.551229Z",
     "start_time": "2024-01-15T07:59:41.530984Z"
    }
   },
   "outputs": [
    {
     "name": "stdout",
     "output_type": "stream",
     "text": [
      "Ткемали зеленый, \n",
      "Ткемали красный, \n",
      "Дет. Куриный шашлычок, \n",
      "Наршараб\n"
     ]
    }
   ],
   "source": [
    "print(*list(df_food_abc[df_food_abc['ABC']=='BCC']['article_name'].unique()), sep=', \\n')"
   ]
  },
  {
   "cell_type": "markdown",
   "id": "cc910fad",
   "metadata": {},
   "source": [
    "### группа C**"
   ]
  },
  {
   "cell_type": "markdown",
   "id": "a80f39cb",
   "metadata": {},
   "source": [
    "Теоретичеки эти блюда не пользуются большим успехом у гостей, поэтому приносят заведению меньшую долю прибыли. Причиной этому может быть неправильное соотношение цена-качество, оказавшееся не в пользу гостя или неверное позиционирование. "
   ]
  },
  {
   "cell_type": "markdown",
   "id": "4b14cc16",
   "metadata": {},
   "source": [
    "Однако может быть такая ситуация, что эти товары находятся в группе `C` несправедливо, а именно плохо продаются не потому, что они не интересны, а потому что их просто нет в наличии тогда, когда на них есть спрос. Поэтому прежде, чем делать выводы по этим товарам, нужно проверить, что они доступны для покупки всегда, когда есть спрос."
   ]
  },
  {
   "cell_type": "markdown",
   "id": "e9127032",
   "metadata": {},
   "source": [
    "__CBA__"
   ]
  },
  {
   "cell_type": "code",
   "execution_count": 83,
   "id": "e34412cd",
   "metadata": {
    "ExecuteTime": {
     "end_time": "2024-01-15T07:59:41.571077Z",
     "start_time": "2024-01-15T07:59:41.551229Z"
    }
   },
   "outputs": [
    {
     "name": "stdout",
     "output_type": "stream",
     "text": [
      "Аджабсандал, \n",
      "Оджахури с треской, \n",
      "Капрезе по-восточному\n"
     ]
    }
   ],
   "source": [
    "print(*list(df_food_abc[df_food_abc['ABC']=='CBA']['article_name'].unique()), sep=', \\n')"
   ]
  },
  {
   "cell_type": "markdown",
   "id": "e3c9055b",
   "metadata": {},
   "source": [
    "`СВА` - высокая цена, мало продаж в штуках, хорошая доходность - продвигать блюда, рекламировать как флагманы (тянуть в `ВВА`)"
   ]
  },
  {
   "cell_type": "markdown",
   "id": "12184acd",
   "metadata": {},
   "source": [
    "__CBB__"
   ]
  },
  {
   "cell_type": "code",
   "execution_count": 84,
   "id": "128ae83e",
   "metadata": {
    "ExecuteTime": {
     "end_time": "2024-01-15T07:59:41.588208Z",
     "start_time": "2024-01-15T07:59:41.571077Z"
    }
   },
   "outputs": [
    {
     "name": "stdout",
     "output_type": "stream",
     "text": [
      "Треска на подушке из овощей, \n",
      "Пицца Батуми с томатами и сулугуни, \n",
      "Шашлык из баранины, \n",
      "Сациви с курой\n"
     ]
    }
   ],
   "source": [
    "print(*list(df_food_abc[df_food_abc['ABC']=='CBB']['article_name'].unique()), sep=', \\n')"
   ]
  },
  {
   "cell_type": "markdown",
   "id": "2fb713c3",
   "metadata": {},
   "source": [
    "Это мало продающиеся позиции, имеющие среднюю доходность и высокую или среднюю маржинальность. Все это - позиции основного меню. Цель: переместиться в `BBA` (что затруднительно из-за высокой себестоимости входящих в состав компонентов) или хотя бы `BBB`. Поэтому необходимо продвигать блюда, рекламировать как аутентичные блюда-флагманы. "
   ]
  },
  {
   "cell_type": "markdown",
   "id": "82736f83",
   "metadata": {},
   "source": [
    "__ССA__"
   ]
  },
  {
   "cell_type": "markdown",
   "id": "d30f689e",
   "metadata": {},
   "source": [
    "Самая многочисленная у нас группа товаров: с низкими показателями по объему продаж и выручке и высоким показателем по прибыльности. "
   ]
  },
  {
   "cell_type": "code",
   "execution_count": 85,
   "id": "e420a39a",
   "metadata": {
    "ExecuteTime": {
     "end_time": "2024-01-15T07:59:41.611378Z",
     "start_time": "2024-01-15T07:59:41.588208Z"
    }
   },
   "outputs": [
    {
     "name": "stdout",
     "output_type": "stream",
     "text": [
      "Каша овсяная на воде, \n",
      "Пхали со свеклой, \n",
      "Мини-хинкали с аджабсандалом, \n",
      "4 пхали на лаваше со свеклой, \n",
      "Огурцы св 100 гр, \n",
      "Пхали на лаваше со свеклой, \n",
      "Дет. Макарошки, \n",
      "Хинкали с яблоком и вишней, \n",
      "Капуста по-гурийски, \n",
      "Соевый соус 30 гр, \n",
      "Кинза 20 гр, \n",
      "Зелень свежая, \n",
      "Чвиштари, \n",
      "Петрушка 20 гр, \n",
      "Перец чили красный 10 гр, \n",
      "Каша овсяная на молоке, \n",
      "4 пхали на лаваше с баклажаном, \n",
      "Пхали с баклажаном , \n",
      "сп. Аджика сухая 10 гр, \n",
      "Пхали с грибами, \n",
      "Огурцы соленые 50 гр, \n",
      "Майонез 50 гр, \n",
      "Сацебели зеленый, \n",
      "Пхали на лаваше с баклажаном, \n",
      "Яйца отварные, \n",
      "Сезонные свежие овощи, \n",
      "Хачапури на шампуре, \n",
      "4 пхали на лаваше со шпинатом, \n",
      "сп. Перец чили сухой 10 гр, \n",
      "Джонджоли 50 гр, \n",
      "Пхали со шпинатом, \n",
      "Пхали на лаваше со шпинатом, \n",
      "Картофельное пюре, \n",
      "Сыр сулугуни 50 гр, \n",
      "Уксус винный 30 гр, \n",
      "Пхали на лаваше с грибами, \n",
      "Свежие овощи, \n",
      "4 пхали на лаваше с грибами, \n",
      "Яйцо куриное, \n",
      "Суп Бозбаш, \n",
      "Дет. Омлет Цыпа, \n",
      "Пицца Мцхета с грушей и дорблю, \n",
      "Сыр на хачапури 50 гр, \n",
      "Дет. Овощные палочки, \n",
      "Омлет, \n",
      "Люля-кебаб из цыпленка, \n",
      "Запеченный баклажан, \n",
      "Чирбули - грузинская яичница с томатами, \n",
      "Салат \"Мцвади\" с ростбифом, \n",
      "Суп Боснеули, \n",
      "Мед топпинг, \n",
      "Перец острый соленый 50 гр, \n",
      "Лобио, \n",
      "Скрембл, \n",
      "Хлеб багет100 гр, \n",
      "Олимпийский завтрак, \n",
      "Сыр сулугуни копченый 30 гр, \n",
      "Дет. Овощной салат, \n",
      "Яичница глазунья., \n",
      "Суджук из говядины 30 гр, \n",
      "Кетчуп 50 гр, \n",
      "Дет. Картофельное пюре\n"
     ]
    }
   ],
   "source": [
    "print(*list(df_food_abc[df_food_abc['ABC']=='CCA']['article_name'].unique()), sep=', \\n')"
   ]
  },
  {
   "cell_type": "markdown",
   "id": "a542b86f",
   "metadata": {},
   "source": [
    "Здесь у нас топпинги и соусы, позиции Детского меню и несколько позиций основного меню. "
   ]
  },
  {
   "cell_type": "markdown",
   "id": "bad5bb28",
   "metadata": {},
   "source": [
    "В нашем случае рекомендуется оставить без изменений топпинги и соусы (возможно, вывести те, что продаются по 1-5 штук за период), пока не менять позиции Детского меню, т.к. продажи по нему вообще не предполагаются значительными, скорее, оно нужно для имиджа (по брендбуку). "
   ]
  },
  {
   "cell_type": "markdown",
   "id": "5e08be61",
   "metadata": {},
   "source": [
    "По завтракам (каша, яичницы, омлеты и т.д.) - можно сократить ассортимент яичниц, например. Тогда из трех яичниц из `CCA` мы можем получить две позиции из `BBA`. Хотя можно этого и не делать, поскольку никакие ингредиенты, использующиеся при приготовлении яичницы или омлета, не держатся в ресторане специально, все они участвуют в других блюдах, поэтому необходимость поддерживать наличие яичниц в меню не требует дополнительной заморозки средств в этих ингредиентах. То, что готовится для завтраков, также не требует участия заготовительного цеха, поэтому скорее рекомендуется провести акции на завтраки, что также может помочь решить вопрос пониженной загрузки ресторана в утренние и дневные часы."
   ]
  },
  {
   "cell_type": "markdown",
   "id": "6bbeffe9",
   "metadata": {},
   "source": [
    "По позициям основного меню (особенно пхали, т.к. это одна из основных имиджевых позиций меню, и отказаться от неё нельзя) цель такая: переместиться в `BBA`. Поэтому общие рекомендации такие: \n",
    "- Цены: Можно рассмотреть возможность снижения цен, но только если это не ухудшит общую прибыль.\n",
    "- Реклама: рекламировать с особым акцентом на их качество или уникальность как аутентичного национального блюда. \n",
    "- Ассортимент: Рассмотреть возможность сокращения ассортимента пхали, оставив наиболее популярные их варианты. Также, возможно, клиенты могли не пробовать пхали никогда вообще, поэтому их можно приносить в \"счастливые\" часы как комплимент от заведения при покупке определенных позиций из барного меню. "
   ]
  },
  {
   "cell_type": "markdown",
   "id": "0ea55bcb",
   "metadata": {},
   "source": [
    "__ССB__"
   ]
  },
  {
   "cell_type": "code",
   "execution_count": 86,
   "id": "70bb0a2c",
   "metadata": {
    "ExecuteTime": {
     "end_time": "2024-01-15T07:59:41.631295Z",
     "start_time": "2024-01-15T07:59:41.611378Z"
    }
   },
   "outputs": [
    {
     "name": "stdout",
     "output_type": "stream",
     "text": [
      "Дет. Сосиска в тесте, \n",
      "Пицца Кахетия с аджабсандалом, \n",
      "Язык отварной 50 гр, \n",
      "Масло оливковое 30 гр, \n",
      "Соленья, \n",
      "Помидоры соленые 50 гр, \n",
      "Хачапури по-гурийски с ветчиной, \n",
      "Томаты свежие, \n",
      "Чакапули, \n",
      "Дет. Суп с фрикадельками, \n",
      "Дет. Сэндвич Совушка, \n",
      "Мясное ассорти, \n",
      "Зерна граната 20 гр, \n",
      "Вишневый соус 50гр\n"
     ]
    }
   ],
   "source": [
    "print(*list(df_food_abc[df_food_abc['ABC']=='CCB']['article_name'].unique()), sep=', \\n')"
   ]
  },
  {
   "cell_type": "markdown",
   "id": "aac46c17",
   "metadata": {},
   "source": [
    "Для топпингов и соусов рекомендуется всегда предлагать их при заказе хинкали и салатов (в ресторане: официантами, принимающими заказ, при заказе на сайте или в приложении: через всплывающие рекомендации или рекомендации в корзине)."
   ]
  },
  {
   "cell_type": "markdown",
   "id": "6cd25379",
   "metadata": {
    "ExecuteTime": {
     "end_time": "2024-01-14T14:33:44.861847Z",
     "start_time": "2024-01-14T14:33:44.856867Z"
    }
   },
   "source": [
    "__CCC__"
   ]
  },
  {
   "cell_type": "code",
   "execution_count": 87,
   "id": "ad30d710",
   "metadata": {
    "ExecuteTime": {
     "end_time": "2024-01-15T07:59:41.651008Z",
     "start_time": "2024-01-15T07:59:41.631295Z"
    }
   },
   "outputs": [
    {
     "name": "stdout",
     "output_type": "stream",
     "text": [
      "Сыр чечил копченый 30 гр, \n",
      "Огурцы маринованные 50 гр, \n",
      "Дет. Куриная котлета, \n",
      "Дет. Наггетсы рыбные в кляре, \n",
      "Сыр топпинг, \n",
      "Ветчина топпинг, \n",
      "Бастурма 30 гр, \n",
      "Доставка 3-я зона , \n",
      "Соус табаско 10 гр, \n",
      "Орех грецкий топпинг\n"
     ]
    }
   ],
   "source": [
    "print(*list(df_food_abc[df_food_abc['ABC']=='CCC']['article_name'].unique()), sep=', \\n')"
   ]
  },
  {
   "cell_type": "markdown",
   "id": "f9217309",
   "metadata": {},
   "source": [
    "Группа товаров с низкими показателями по объему продаж, выручке и прибыли (код \"CCC\"): \n",
    "- здесь это топпинги и добавки и позиции Детского меню. "
   ]
  },
  {
   "cell_type": "markdown",
   "id": "4ddd044e",
   "metadata": {},
   "source": [
    "Топпинги помогают повышать средний чек, а позиции Детского меню необходимы для бренд-бука, поэтому выводить их не стоит в данном случае, хотя вообще по этой группе дается рекомендация о рассмотрении варианта вывода позиций (особенно для детского меню, т.к. котлеты и наггетсы закупаются отдельно и имеют срок хранения, и при невостребованности списываются)."
   ]
  },
  {
   "cell_type": "markdown",
   "id": "8d29c774",
   "metadata": {
    "ExecuteTime": {
     "end_time": "2024-01-14T14:34:10.712002Z",
     "start_time": "2024-01-14T14:34:10.703026Z"
    }
   },
   "source": [
    "__CCB__"
   ]
  },
  {
   "cell_type": "code",
   "execution_count": 88,
   "id": "0da3108a",
   "metadata": {
    "ExecuteTime": {
     "end_time": "2024-01-15T07:59:41.671163Z",
     "start_time": "2024-01-15T07:59:41.651008Z"
    }
   },
   "outputs": [
    {
     "name": "stdout",
     "output_type": "stream",
     "text": [
      "Дет. Сосиска в тесте, \n",
      "Пицца Кахетия с аджабсандалом, \n",
      "Язык отварной 50 гр, \n",
      "Масло оливковое 30 гр, \n",
      "Соленья, \n",
      "Помидоры соленые 50 гр, \n",
      "Хачапури по-гурийски с ветчиной, \n",
      "Томаты свежие, \n",
      "Чакапули, \n",
      "Дет. Суп с фрикадельками, \n",
      "Дет. Сэндвич Совушка, \n",
      "Мясное ассорти, \n",
      "Зерна граната 20 гр, \n",
      "Вишневый соус 50гр\n"
     ]
    }
   ],
   "source": [
    "print(*list(df_food_abc[df_food_abc['ABC']=='CCB']['article_name'].unique()), sep=', \\n')"
   ]
  },
  {
   "cell_type": "markdown",
   "id": "93d2f124",
   "metadata": {},
   "source": [
    "Группа товаров с низкими показателями по объему продаж и выручке и средним показателем по прибыли: \n",
    "- здесь топпинги и добавки, позиции Детского меню и уже выведенная из основного меню пицца."
   ]
  },
  {
   "cell_type": "markdown",
   "id": "c0a801e3",
   "metadata": {},
   "source": [
    "__CBC__"
   ]
  },
  {
   "cell_type": "markdown",
   "id": "827147cf",
   "metadata": {},
   "source": [
    "Группа товаров с низкими показателями по объему продаж, средним показателем по выручке и низким показателем по прибыли. Это дорогие позиции с высокой себестоимостью, которые, тем не менее, являются имиджевыми в меню и не могут быть выведены из него. "
   ]
  },
  {
   "cell_type": "code",
   "execution_count": 89,
   "id": "6a6cdd53",
   "metadata": {
    "ExecuteTime": {
     "end_time": "2024-01-15T07:59:41.688590Z",
     "start_time": "2024-01-15T07:59:41.671163Z"
    }
   },
   "outputs": [
    {
     "name": "stdout",
     "output_type": "stream",
     "text": [
      "Баранья лопатка на кости, \n",
      "Пицца Сванети мясная, \n",
      "Ассорти сыров\n"
     ]
    }
   ],
   "source": [
    "print(*list(df_food_abc[df_food_abc['ABC']=='CBC']['article_name'].unique()), sep=', \\n')"
   ]
  },
  {
   "cell_type": "markdown",
   "id": "2a6c4b89",
   "metadata": {},
   "source": [
    "Рекомендация: продвигать позиции как флагманские с целью перейти в `BBС`. Также, по возможности, попробовать снизить себестоимость (но для данных конкретных позиций это малоперспективно, т.к. может пострадать качество)."
   ]
  },
  {
   "cell_type": "markdown",
   "id": "78495573",
   "metadata": {},
   "source": [
    "__Для получения более глубокой аналитики__ рекомендуется провести `ABC-анализ` в следующих разрезах:\n",
    "- по бренду / ресторану,\n",
    "- по типу заказа (доставка, самовывоз, алякарт)\n",
    "- по группе меню (детское, основное, сезонное, барное, чайное и т.д.)"
   ]
  },
  {
   "cell_type": "code",
   "execution_count": null,
   "id": "31f441dc",
   "metadata": {},
   "outputs": [],
   "source": []
  }
 ],
 "metadata": {
  "kernelspec": {
   "display_name": "Python 3 (ipykernel)",
   "language": "python",
   "name": "python3"
  },
  "language_info": {
   "codemirror_mode": {
    "name": "ipython",
    "version": 3
   },
   "file_extension": ".py",
   "mimetype": "text/x-python",
   "name": "python",
   "nbconvert_exporter": "python",
   "pygments_lexer": "ipython3",
   "version": "3.9.12"
  },
  "toc": {
   "base_numbering": 1,
   "nav_menu": {},
   "number_sections": true,
   "sideBar": true,
   "skip_h1_title": true,
   "title_cell": "Table of Contents",
   "title_sidebar": "Contents",
   "toc_cell": true,
   "toc_position": {},
   "toc_section_display": true,
   "toc_window_display": false
  }
 },
 "nbformat": 4,
 "nbformat_minor": 5
}
