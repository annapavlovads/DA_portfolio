{
 "cells": [
  {
   "cell_type": "markdown",
   "metadata": {
    "toc": true
   },
   "source": [
    "<h1>Table of Contents<span class=\"tocSkip\"></span></h1>\n",
    "<div class=\"toc\"><ul class=\"toc-item\"><li><span><a href=\"#Функции-и-константы\" data-toc-modified-id=\"Функции-и-константы-1\"><span class=\"toc-item-num\">1&nbsp;&nbsp;</span>Функции и константы</a></span></li><li><span><a href=\"#Загрузка-и-проверка-данных\" data-toc-modified-id=\"Загрузка-и-проверка-данных-2\"><span class=\"toc-item-num\">2&nbsp;&nbsp;</span>Загрузка и проверка данных</a></span></li><li><span><a href=\"#Сегментация\" data-toc-modified-id=\"Сегментация-3\"><span class=\"toc-item-num\">3&nbsp;&nbsp;</span>Сегментация</a></span></li><li><span><a href=\"#Визуализация-сегментов\" data-toc-modified-id=\"Визуализация-сегментов-4\"><span class=\"toc-item-num\">4&nbsp;&nbsp;</span>Визуализация сегментов</a></span></li><li><span><a href=\"#Выводы-и-рекомендации\" data-toc-modified-id=\"Выводы-и-рекомендации-5\"><span class=\"toc-item-num\">5&nbsp;&nbsp;</span>Выводы и рекомендации</a></span></li></ul></div>"
   ]
  },
  {
   "cell_type": "code",
   "execution_count": 1,
   "metadata": {
    "ExecuteTime": {
     "end_time": "2024-01-15T13:12:17.280814Z",
     "start_time": "2024-01-15T13:12:16.242688Z"
    },
    "id": "0fk-2Neq7Azl"
   },
   "outputs": [],
   "source": [
    "import pandas as pd\n",
    "import matplotlib.pyplot as plt\n",
    "import numpy as np\n",
    "from datetime import datetime\n",
    "from datetime import timedelta"
   ]
  },
  {
   "cell_type": "code",
   "execution_count": 2,
   "metadata": {
    "ExecuteTime": {
     "end_time": "2024-01-15T13:12:17.296770Z",
     "start_time": "2024-01-15T13:12:17.281811Z"
    }
   },
   "outputs": [],
   "source": [
    "#dataset settings\n",
    "pd.set_option('display.max_columns', 100) #макс кол-во колонок в выводимых данных \n",
    "pd.set_option('display.max_rows', 30) #макс кол-во строк в выводимых данных\n",
    "pd.set_option('display.width', 60) #макс кол-во символов в строке\n",
    "\n",
    "#warnings and other settings\n",
    "import warnings\n",
    "warnings.filterwarnings(\"ignore\", category=RuntimeWarning)\n",
    "warnings.simplefilter('ignore')\n",
    "pd.options.mode.chained_assignment = None"
   ]
  },
  {
   "cell_type": "markdown",
   "metadata": {},
   "source": [
    "## Функции и константы"
   ]
  },
  {
   "cell_type": "markdown",
   "metadata": {},
   "source": [
    "Мы знаем перечень `client_id`, которые используются для служебных целей и не должны попадать в анализ. Укажем их в списке для того, чтобы исключить из датасета."
   ]
  },
  {
   "cell_type": "code",
   "execution_count": 3,
   "metadata": {
    "ExecuteTime": {
     "end_time": "2024-01-15T13:12:17.312218Z",
     "start_time": "2024-01-15T13:12:17.297734Z"
    }
   },
   "outputs": [],
   "source": [
    "DELETE_CONTACT_ID_LIST = [7613573, 11947648, 1261434, 1264104, 11947578, 1240582,\n",
    "                          1278517, 1149672, 704131, 11947525, 0]"
   ]
  },
  {
   "cell_type": "markdown",
   "metadata": {},
   "source": [
    "В анализе будем использовать вот эти написанные нами функции:"
   ]
  },
  {
   "cell_type": "code",
   "execution_count": 4,
   "metadata": {
    "ExecuteTime": {
     "end_time": "2024-01-15T13:12:17.327197Z",
     "start_time": "2024-01-15T13:12:17.313201Z"
    }
   },
   "outputs": [],
   "source": [
    "def get_days(item: timedelta) -> int:\n",
    "    \"\"\"\n",
    "    Функция get_days используется для извлечения количества дней из объекта item.\n",
    "\n",
    "    Аргументы:\n",
    "    item : объект datetime.timedelta\n",
    "        Объект timedelta, представляющий разницу между двумя моментами \n",
    "        времени или временными интервалами.\n",
    "\n",
    "    Возвращает:\n",
    "    int\n",
    "        Количество дней, представленных объектом timedelta.    \n",
    "    \"\"\"\n",
    "    return item.days"
   ]
  },
  {
   "cell_type": "code",
   "execution_count": 5,
   "metadata": {
    "ExecuteTime": {
     "end_time": "2024-01-15T13:12:17.343146Z",
     "start_time": "2024-01-15T13:12:17.329193Z"
    }
   },
   "outputs": [],
   "source": [
    "def get_quantile_dict(dataframe: pd.DataFrame) -> dict: \n",
    "    \"\"\"\n",
    "    Функция get_quantile_dict вычисляет квантили для колонок 'recency', 'frequency', 'monetary' \n",
    "    в DataFrame и возвращает результат в виде словаря.\n",
    "\n",
    "    Аргументы:\n",
    "    dataframe : pandas.DataFrame\n",
    "    DataFrame, содержащий колонки 'recency', 'frequency', 'monetary', \n",
    "    для которых нужно вычислить квантили.\n",
    "\n",
    "    Возвращает:\n",
    "    dict\n",
    "    Словарь, содержащий квантили для каждой из указанных колонок. \n",
    "    Ключи словаря - это квантили (0.2, 0.4, 0.6, 0.8),\n",
    "    значения - это словари с ключами 'recency', 'frequency', 'monetary' \n",
    "    и значениями квантилей соответствующих колонок.\n",
    "    \"\"\"\n",
    "    return dataframe[['recency', 'frequency', 'monetary']].quantile([.2, .4, .6, .8]).to_dict()"
   ]
  },
  {
   "cell_type": "code",
   "execution_count": 6,
   "metadata": {
    "ExecuteTime": {
     "end_time": "2024-01-15T13:12:17.358082Z",
     "start_time": "2024-01-15T13:12:17.345115Z"
    }
   },
   "outputs": [],
   "source": [
    "def get_r_score(x: int) -> int:\n",
    "    \"\"\"\n",
    "    Функция get_r_score используется для вычисления рейтинга по \n",
    "    параметру recency (недавности) на основе значений x и словаря \n",
    "    квантилей quant_dict.\n",
    "\n",
    "    Аргументы:\n",
    "    x : int\n",
    "        Значение параметра recency, для которого нужно вычислить рейтинг.\n",
    "    quant_dict : dict\n",
    "        Словарь, содержащий квантили для параметра recency. \n",
    "        Ключи словаря - это квантили (0.2, 0.4, 0.6, 0.8), значения - это квантили для recency.\n",
    "\n",
    "    Возвращает:\n",
    "    int\n",
    "        Числовой рейтинг на основе значения параметра recency\n",
    "    \"\"\"\n",
    "    x = int(x)\n",
    "    \n",
    "    if x <= quant_dict['recency'][.2]:\n",
    "        return 5\n",
    "    elif quant_dict['recency'][.2] < x <= quant_dict['recency'][.4]:\n",
    "        return 4\n",
    "    elif quant_dict['recency'][.4] < x <= quant_dict['recency'][.6]:\n",
    "        return 3\n",
    "    elif quant_dict['recency'][.6] < x <= quant_dict['recency'][.8]:\n",
    "        return 2\n",
    "    elif quant_dict['recency'][.8] < x:\n",
    "        return 1\n",
    "    \n",
    "def get_f_score(x: int) -> int:\n",
    "    \"\"\"\n",
    "    Вычисляет рейтинг по параметру frequency на основе значения x и словаря квантилей quant_dict.\n",
    "\n",
    "    Аргументы:\n",
    "    x : int\n",
    "        Значение параметра frequency, для которого нужно вычислить рейтинг.\n",
    "        \n",
    "    quant_dict : dict\n",
    "        Словарь, содержащий квантили для параметра frequency. \n",
    "        Ключи словаря - это квантили (0.2, 0.4, 0.6, 0.8), \n",
    "        значения - это квантили для frequency.\n",
    "\n",
    "    Возвращает:\n",
    "    int\n",
    "        Рейтинг, вычисленный на основе значения параметра frequency:    \n",
    "    \"\"\"\n",
    "    x = int(x)\n",
    "    \n",
    "    if x <= quant_dict['frequency'][.2]:\n",
    "        return 1\n",
    "    elif quant_dict['frequency'][.2] < x <= quant_dict['frequency'][.4]:\n",
    "        return 2\n",
    "    elif quant_dict['frequency'][.4] < x <= quant_dict['frequency'][.6]:\n",
    "        return 3\n",
    "    elif quant_dict['frequency'][.6] < x <= quant_dict['frequency'][.8]:\n",
    "        return 4\n",
    "    elif quant_dict['frequency'][.8] < x:\n",
    "        return 5\n",
    "    \n",
    "def get_m_score(x: int) -> int:\n",
    "    \"\"\"\n",
    "    Функция вычисляет рейтинг на основе параметра monetary с учетом значения x \n",
    "    и словаря квантилей quant_dict.\n",
    "\n",
    "    Аргументы:\n",
    "    x : int\n",
    "        Значение параметра monetary, для которого требуется вычислить рейтинг.\n",
    "    quant_dict : dict\n",
    "        Словарь, содержащий квантили для параметра monetary. \n",
    "        Ключи словаря - это квантили (0.2, 0.4, 0.6, 0.8), \n",
    "        значения - это квантили для monetary.\n",
    "\n",
    "    Возвращает:\n",
    "    int\n",
    "        Рейтинг, вычисленный на основе значения параметра monetary.\n",
    "    \"\"\"\n",
    "    x = int(x)\n",
    "    \n",
    "    if x <= quant_dict['monetary'][.2]:\n",
    "        return 1\n",
    "    elif quant_dict['monetary'][.2] < x <= quant_dict['monetary'][.4]:\n",
    "        return 2\n",
    "    elif quant_dict['monetary'][.4]< x <= quant_dict['monetary'][.6]:\n",
    "        return 3\n",
    "    elif quant_dict['monetary'][.6] < x <= quant_dict['monetary'][.8]:\n",
    "        return 4\n",
    "    elif quant_dict['monetary'][.8] < x:\n",
    "        return 5"
   ]
  },
  {
   "cell_type": "code",
   "execution_count": 7,
   "metadata": {
    "ExecuteTime": {
     "end_time": "2024-01-15T13:12:17.373041Z",
     "start_time": "2024-01-15T13:12:17.360076Z"
    }
   },
   "outputs": [],
   "source": [
    "def get_rfm_macro(item: str) -> str: \n",
    "    \"\"\"\n",
    "    Функция возвращает макросегмент RFM на основе значения item.\n",
    "\n",
    "    Аргументы:\n",
    "    item : str\n",
    "        Значение параметра RFM, для которого требуется определить макросегмент.\n",
    "\n",
    "    Возвращает:\n",
    "    str\n",
    "        Макросегмент RFM, вычисленный на основе значения item.\n",
    "    \"\"\"\n",
    "    \n",
    "    macrosegment_dict = {\n",
    "        '51': 'Новые', '41': 'Новые', '52': 'Активные', '53': 'Активные', \n",
    "        '54': 'Активные', '55': 'Активные', '42': 'Активные', \n",
    "        '43': 'Активные', '44': 'Активные', '45': 'Активные'\n",
    "    }\n",
    "    \n",
    "    try:\n",
    "        return macrosegment_dict[str(item)[:-1]]\n",
    "    except: \n",
    "        return 'Отток'"
   ]
  },
  {
   "cell_type": "code",
   "execution_count": 8,
   "metadata": {
    "ExecuteTime": {
     "end_time": "2024-01-15T13:12:17.389033Z",
     "start_time": "2024-01-15T13:12:17.374038Z"
    }
   },
   "outputs": [],
   "source": [
    "def get_rfm_segment(item: int) -> str: \n",
    "    \"\"\"\n",
    "    Функция возвращает сегмент RFM на основе значения item.\n",
    "\n",
    "    Аргументы:\n",
    "    item : int\n",
    "        Значение параметра RFM, для которого требуется определить сегмент.\n",
    "\n",
    "    Возвращает:\n",
    "    str\n",
    "        Сегмент RFM, вычисленный на основе значения item.\n",
    "    \"\"\"\n",
    "    \n",
    "    item = int(item)\n",
    "    if item in [525, 524, 523, 515, 514, 513, 425, 424, 423, 415, 414, 413]: \n",
    "        return 'Новички'\n",
    "    elif item in [522, 521, 512, 511, 422, 421, 412, 411, 323, 322, 321, 313, \n",
    "                  312, 311, 225, 224, 223, 222, 221, 215, 214, 213, 212, 211, \n",
    "                  125, 124, 123, 122, 121, 115, 114, 113, 112, 111]: \n",
    "        return 'Случайные'\n",
    "    elif item in [555, 554, 545, 544, 455, 454, 445, 444]: \n",
    "        return 'ВИП'\n",
    "    elif item in [553, 543, 535, 534, 533, 453, 443, 435, 434, 433]: \n",
    "        return 'Хорошие'\n",
    "    elif item in [552, 551, 542, 541, 532, 531, 452, 451, 442, 441, 432, 431]: \n",
    "        return 'Хорошие экономные'\n",
    "    elif item in [355, 354, 353, 345, 344, 343, 335, 334, 333]: \n",
    "        return 'Уходящие хорошие' \n",
    "    elif item in [352, 351, 342, 341, 332, 331]: \n",
    "        return 'Уходящие экономные'\n",
    "    elif item in [232, 231, 132, 131]: \n",
    "        return 'Отток экономные'\n",
    "    elif item in [253, 252, 251, 243, 242, 241, 235, 234, 233, 153, 152, 151, 143, \n",
    "                  142, 141, 135, 134, 133]: \n",
    "        return 'Отток обычные'\n",
    "    elif item in [325, 324,315, 314, 255, 254, 245, 244, 155, 154, 145, 144]: \n",
    "        return 'Потерянные ВИП'"
   ]
  },
  {
   "cell_type": "code",
   "execution_count": 9,
   "metadata": {
    "ExecuteTime": {
     "end_time": "2024-01-15T13:12:17.403959Z",
     "start_time": "2024-01-15T13:12:17.390994Z"
    }
   },
   "outputs": [],
   "source": [
    "def get_first_date_of_month(dt: datetime) -> datetime:\n",
    "    \"\"\"\n",
    "    Функция возвращает первый день месяца на основе переданной даты.\n",
    "\n",
    "    Аргументы:\n",
    "    dt : datetime\n",
    "        Исходная дата, для которой требуется определить первый день месяца.\n",
    "\n",
    "    Возвращает:\n",
    "    datetime\n",
    "        Первый день месяца, вычисленный на основе переданной даты.\n",
    "        \"\"\"\n",
    "    return datetime(dt.year, dt.month, 1)"
   ]
  },
  {
   "cell_type": "code",
   "execution_count": 10,
   "metadata": {
    "ExecuteTime": {
     "end_time": "2024-01-15T13:12:17.434716Z",
     "start_time": "2024-01-15T13:12:17.407947Z"
    }
   },
   "outputs": [],
   "source": [
    "def get_rfm_plot(rfm_base: pd.DataFrame) -> None:\n",
    "    \"\"\"\n",
    "    Функция строит графики для распределения клиентов по R и F и по M для каждой комбинации F и R.\n",
    "\n",
    "    Аргументы:\n",
    "    rfm_base : DataFrame\n",
    "        DataFrame, содержащий данные для анализа\n",
    "\n",
    "    Возвращает:\n",
    "    None\n",
    "        Функция отображает графики, но не возвращает значения.\n",
    "\n",
    "    Примечания:\n",
    "    Функция строит два графика: первый для распределения клиентов по R и F, \n",
    "    второй - для распределения M для каждой комбинации F и R.\n",
    "    \"\"\"\n",
    "    \n",
    "    fig, axes = plt.subplots(nrows=1, ncols=2, figsize=(10, 4))\n",
    "    \n",
    "    for i, p in enumerate(['R', 'F']):\n",
    "        \n",
    "        parameters = {'R':'recency', 'F':'frequency'}\n",
    "        \n",
    "        y = rfm_base[p].value_counts().sort_index()\n",
    "        x = y.index\n",
    "        \n",
    "        ax = axes[i]\n",
    "        bars = ax.bar(x, y, color='silver')\n",
    "        ax.set_frame_on(False)\n",
    "        ax.tick_params(left=False, labelleft=False, bottom=False)\n",
    "        \n",
    "        ax.set_title('Distribution of {}'.format(parameters[p]), fontsize=14)\n",
    "        \n",
    "        for bar in bars:\n",
    "            value = bar.get_height()\n",
    "            \n",
    "            if value == y.max():\n",
    "                bar.set_color('firebrick')\n",
    "        ax.text(bar.get_x() + bar.get_width() / 2,\n",
    "                value - 5,\n",
    "                '{}\\n({}%)'.format(int(value), int(value * 100 / y.sum())),\n",
    "                ha='center',\n",
    "                va='top',\n",
    "                color='w')\n",
    "    plt.show()\n",
    "\n",
    "    # plot the distribution of M for RF score\n",
    "    fig, axes = plt.subplots(nrows=5, ncols=5,\n",
    "                             sharex=False, sharey=True,\n",
    "                             figsize=(10, 10))\n",
    "\n",
    "    r_range = range(1, 6)\n",
    "    f_range = range(1, 6)\n",
    "\n",
    "    for r in r_range:\n",
    "        for f in f_range:\n",
    "            y = rfm_base[(rfm_base['R'] == r) & (rfm_base['F'] == f)]['M'].value_counts().sort_index()\n",
    "            x = y.index\n",
    "            ax = axes[r - 1, f - 1]\n",
    "            bars = ax.bar(x, y, color='silver')\n",
    "            if r == 5:\n",
    "                if f == 3:\n",
    "                    ax.set_xlabel('{}\\nF'.format(f), va='top')\n",
    "                else:\n",
    "                    ax.set_xlabel('{}\\n'.format(f), va='top')\n",
    "            if f == 1:\n",
    "                if r == 3:\n",
    "                    ax.set_ylabel('R\\n{}'.format(r))\n",
    "                else:\n",
    "                    ax.set_ylabel(r)\n",
    "            ax.set_frame_on(False)\n",
    "            ax.tick_params(left=False, labelleft=False, bottom=False)\n",
    "            ax.set_xticks(x)\n",
    "            ax.set_xticklabels(x, fontsize=8)\n",
    "\n",
    "            for bar in bars:\n",
    "                value = bar.get_height()\n",
    "                if value == y.max():\n",
    "                    bar.set_color('firebrick')\n",
    "                ax.text(bar.get_x() + bar.get_width() / 2,\n",
    "                        value,\n",
    "                        int(value),\n",
    "                        ha='center',\n",
    "                        va='bottom',\n",
    "                        color='k')\n",
    "            \n",
    "    fig.suptitle('Distribution of M for each F and R', fontsize=14)\n",
    "    \n",
    "    plt.tight_layout()\n",
    "    \n",
    "    plt.show()"
   ]
  },
  {
   "cell_type": "code",
   "execution_count": 11,
   "metadata": {
    "ExecuteTime": {
     "end_time": "2024-01-15T13:12:17.450613Z",
     "start_time": "2024-01-15T13:12:17.437648Z"
    }
   },
   "outputs": [],
   "source": [
    "def get_segment_barchart(rfm_base: pd.DataFrame) -> None:\n",
    "    # count the number of customers in each segment\n",
    "    \"\"\"\n",
    "    Функция строит столбчатую диаграмму для подсчета количества клиентов в каждом сегменте.\n",
    "\n",
    "    Аргументы:\n",
    "    rfm_base : DataFrame\n",
    "        DataFrame, содержащий данные для анализа\n",
    "\n",
    "    Возвращает:\n",
    "    None\n",
    "        Функция отображает столбчатую диаграмму, но не возвращает значения.\n",
    "\n",
    "    Примечания:\n",
    "    Функция подсчитывает количество клиентов в каждом сегменте на основе данных \n",
    "    из столбца 'rfm_segment' датафрейма rfm_base и строит столбчатую диаграмму, \n",
    "    отображая распределение клиентов по сегментам.\n",
    "    \"\"\"\n",
    "    segments_counts = rfm_base['segment'].value_counts().sort_values(ascending=True)\n",
    "\n",
    "    fig, ax = plt.subplots()\n",
    "\n",
    "    bars = ax.barh(range(len(segments_counts)),\n",
    "                  segments_counts,\n",
    "                  color='silver')\n",
    "    ax.set_frame_on(False)\n",
    "    ax.tick_params(left=False,\n",
    "                   bottom=False,\n",
    "                   labelbottom=False)\n",
    "    ax.set_yticks(range(len(segments_counts)))\n",
    "    ax.set_yticklabels(segments_counts.index)\n",
    "\n",
    "    for i, bar in enumerate(bars):\n",
    "            value = bar.get_width()\n",
    "            if segments_counts.index[i] in ['Активные.ВИП', 'Активные.Хорошие']:\n",
    "                bar.set_color('firebrick')\n",
    "            ax.text(value,\n",
    "                    bar.get_y() + bar.get_height()/2,\n",
    "                    '{:,} ({:}%)'.format(int(value),\n",
    "                                   int(value*100/segments_counts.sum())),\n",
    "                    va='center',\n",
    "                    ha='left'\n",
    "                   )\n",
    "\n",
    "    plt.show()"
   ]
  },
  {
   "cell_type": "markdown",
   "metadata": {
    "id": "p9W9RSCA7Azm"
   },
   "source": [
    "## Загрузка и проверка данных"
   ]
  },
  {
   "cell_type": "code",
   "execution_count": 12,
   "metadata": {
    "ExecuteTime": {
     "end_time": "2024-01-15T13:13:03.540905Z",
     "start_time": "2024-01-15T13:12:17.451609Z"
    },
    "id": "vp-BSewv7Azm",
    "outputId": "31f2e602-7e1e-46e3-8371-d764af1cab1c"
   },
   "outputs": [
    {
     "data": {
      "text/html": [
       "<div>\n",
       "<style scoped>\n",
       "    .dataframe tbody tr th:only-of-type {\n",
       "        vertical-align: middle;\n",
       "    }\n",
       "\n",
       "    .dataframe tbody tr th {\n",
       "        vertical-align: top;\n",
       "    }\n",
       "\n",
       "    .dataframe thead th {\n",
       "        text-align: right;\n",
       "    }\n",
       "</style>\n",
       "<table border=\"1\" class=\"dataframe\">\n",
       "  <thead>\n",
       "    <tr style=\"text-align: right;\">\n",
       "      <th></th>\n",
       "      <th>contact_id</th>\n",
       "      <th>date_time</th>\n",
       "      <th>cheq_id</th>\n",
       "      <th>cheq_sum</th>\n",
       "    </tr>\n",
       "  </thead>\n",
       "  <tbody>\n",
       "    <tr>\n",
       "      <th>0</th>\n",
       "      <td>692705</td>\n",
       "      <td>2023-11-09 18:33:12</td>\n",
       "      <td>-9223372036610950144</td>\n",
       "      <td>2725.0</td>\n",
       "    </tr>\n",
       "    <tr>\n",
       "      <th>1</th>\n",
       "      <td>17324395</td>\n",
       "      <td>2023-08-11 18:54:35</td>\n",
       "      <td>-9223372036646039552</td>\n",
       "      <td>8625.0</td>\n",
       "    </tr>\n",
       "    <tr>\n",
       "      <th>2</th>\n",
       "      <td>18625184</td>\n",
       "      <td>2024-01-06 00:31:27</td>\n",
       "      <td>-9223372036587329536</td>\n",
       "      <td>1440.0</td>\n",
       "    </tr>\n",
       "    <tr>\n",
       "      <th>3</th>\n",
       "      <td>1478822</td>\n",
       "      <td>2023-10-22 20:01:11</td>\n",
       "      <td>-9223372036616890368</td>\n",
       "      <td>4040.0</td>\n",
       "    </tr>\n",
       "    <tr>\n",
       "      <th>4</th>\n",
       "      <td>768915</td>\n",
       "      <td>2023-08-16 22:39:16</td>\n",
       "      <td>-9223372036643269632</td>\n",
       "      <td>3000.0</td>\n",
       "    </tr>\n",
       "  </tbody>\n",
       "</table>\n",
       "</div>"
      ],
      "text/plain": [
       "   contact_id           date_time              cheq_id  \\\n",
       "0      692705 2023-11-09 18:33:12 -9223372036610950144   \n",
       "1    17324395 2023-08-11 18:54:35 -9223372036646039552   \n",
       "2    18625184 2024-01-06 00:31:27 -9223372036587329536   \n",
       "3     1478822 2023-10-22 20:01:11 -9223372036616890368   \n",
       "4      768915 2023-08-16 22:39:16 -9223372036643269632   \n",
       "\n",
       "   cheq_sum  \n",
       "0    2725.0  \n",
       "1    8625.0  \n",
       "2    1440.0  \n",
       "3    4040.0  \n",
       "4    3000.0  "
      ]
     },
     "execution_count": 12,
     "metadata": {},
     "output_type": "execute_result"
    }
   ],
   "source": [
    "df = pd.read_excel('total_sales.xlsx')[['contact_id', 'date_time', 'cheq_id', 'cheq_sum']]\n",
    "df.head()"
   ]
  },
  {
   "cell_type": "code",
   "execution_count": 13,
   "metadata": {
    "ExecuteTime": {
     "end_time": "2024-01-15T13:13:03.555709Z",
     "start_time": "2024-01-15T13:13:03.542708Z"
    }
   },
   "outputs": [
    {
     "data": {
      "text/plain": [
       "contact_id    0\n",
       "date_time     0\n",
       "cheq_id       0\n",
       "cheq_sum      0\n",
       "dtype: int64"
      ]
     },
     "execution_count": 13,
     "metadata": {},
     "output_type": "execute_result"
    }
   ],
   "source": [
    "df.isna().sum()"
   ]
  },
  {
   "cell_type": "code",
   "execution_count": 14,
   "metadata": {
    "ExecuteTime": {
     "end_time": "2024-01-15T13:13:03.586402Z",
     "start_time": "2024-01-15T13:13:03.557669Z"
    }
   },
   "outputs": [
    {
     "name": "stdout",
     "output_type": "stream",
     "text": [
      "<class 'pandas.core.frame.DataFrame'>\n",
      "RangeIndex: 498003 entries, 0 to 498002\n",
      "Data columns (total 4 columns):\n",
      " #   Column      Non-Null Count   Dtype         \n",
      "---  ------      --------------   -----         \n",
      " 0   contact_id  498003 non-null  int64         \n",
      " 1   date_time   498003 non-null  datetime64[ns]\n",
      " 2   cheq_id     498003 non-null  int64         \n",
      " 3   cheq_sum    498003 non-null  float64       \n",
      "dtypes: datetime64[ns](1), float64(1), int64(2)\n",
      "memory usage: 15.2 MB\n"
     ]
    }
   ],
   "source": [
    "df.info()"
   ]
  },
  {
   "cell_type": "markdown",
   "metadata": {},
   "source": [
    "Дата сегментации – последний день прошедшего календарного месяца."
   ]
  },
  {
   "cell_type": "code",
   "execution_count": 15,
   "metadata": {
    "ExecuteTime": {
     "end_time": "2024-01-15T13:13:04.058417Z",
     "start_time": "2024-01-15T13:13:03.587338Z"
    }
   },
   "outputs": [
    {
     "data": {
      "text/plain": [
       "datetime.datetime(2024, 1, 1, 0, 0)"
      ]
     },
     "execution_count": 15,
     "metadata": {},
     "output_type": "execute_result"
    }
   ],
   "source": [
    "end_of_period = get_first_date_of_month(max(df['date_time']))\n",
    "end_of_period"
   ]
  },
  {
   "cell_type": "markdown",
   "metadata": {},
   "source": [
    "Окно сегментации – 9 месяцев – это рассматриваемый период покупательской активности. При выгрузке данных из `Clickhouse` мы это учитывали."
   ]
  },
  {
   "cell_type": "markdown",
   "metadata": {},
   "source": [
    "- `Recency` - количество дней с момента последней покупки до того дня, на который строится сегментация. \n",
    "- `Frequency` - количество чеков за период (окно сегментации). \n",
    "- `Monetary` - общая сумма чеков за период (окно сегментации)."
   ]
  },
  {
   "cell_type": "code",
   "execution_count": 16,
   "metadata": {
    "ExecuteTime": {
     "end_time": "2024-01-15T13:13:04.230528Z",
     "start_time": "2024-01-15T13:13:04.059222Z"
    }
   },
   "outputs": [],
   "source": [
    "df = df.loc[df['date_time'] < end_of_period]\n",
    "df = df.loc[df['contact_id'].apply(lambda x: x not in DELETE_CONTACT_ID_LIST)]"
   ]
  },
  {
   "cell_type": "code",
   "execution_count": 17,
   "metadata": {
    "ExecuteTime": {
     "end_time": "2024-01-15T13:13:08.524729Z",
     "start_time": "2024-01-15T13:13:04.231527Z"
    }
   },
   "outputs": [],
   "source": [
    "df['recency'] = (end_of_period - df['date_time']).apply(get_days)"
   ]
  },
  {
   "cell_type": "code",
   "execution_count": 18,
   "metadata": {
    "ExecuteTime": {
     "end_time": "2024-01-15T13:13:08.615695Z",
     "start_time": "2024-01-15T13:13:08.526564Z"
    }
   },
   "outputs": [],
   "source": [
    "rfm_base = df.groupby(['contact_id']).agg(\n",
    "    {'recency': 'min', 'cheq_id': 'count', 'cheq_sum': 'sum'}).reset_index()"
   ]
  },
  {
   "cell_type": "code",
   "execution_count": 19,
   "metadata": {
    "ExecuteTime": {
     "end_time": "2024-01-15T13:13:08.631119Z",
     "start_time": "2024-01-15T13:13:08.616696Z"
    }
   },
   "outputs": [],
   "source": [
    "rfm_base.columns=['contact_id', 'recency', 'frequency', 'monetary']"
   ]
  },
  {
   "cell_type": "code",
   "execution_count": 20,
   "metadata": {
    "ExecuteTime": {
     "end_time": "2024-01-15T13:13:08.647164Z",
     "start_time": "2024-01-15T13:13:08.632116Z"
    }
   },
   "outputs": [
    {
     "data": {
      "text/html": [
       "<div>\n",
       "<style scoped>\n",
       "    .dataframe tbody tr th:only-of-type {\n",
       "        vertical-align: middle;\n",
       "    }\n",
       "\n",
       "    .dataframe tbody tr th {\n",
       "        vertical-align: top;\n",
       "    }\n",
       "\n",
       "    .dataframe thead th {\n",
       "        text-align: right;\n",
       "    }\n",
       "</style>\n",
       "<table border=\"1\" class=\"dataframe\">\n",
       "  <thead>\n",
       "    <tr style=\"text-align: right;\">\n",
       "      <th></th>\n",
       "      <th>contact_id</th>\n",
       "      <th>recency</th>\n",
       "      <th>frequency</th>\n",
       "      <th>monetary</th>\n",
       "    </tr>\n",
       "  </thead>\n",
       "  <tbody>\n",
       "    <tr>\n",
       "      <th>0</th>\n",
       "      <td>472800</td>\n",
       "      <td>38</td>\n",
       "      <td>4</td>\n",
       "      <td>8903.0</td>\n",
       "    </tr>\n",
       "    <tr>\n",
       "      <th>1</th>\n",
       "      <td>472802</td>\n",
       "      <td>126</td>\n",
       "      <td>1</td>\n",
       "      <td>3770.0</td>\n",
       "    </tr>\n",
       "    <tr>\n",
       "      <th>2</th>\n",
       "      <td>472807</td>\n",
       "      <td>9</td>\n",
       "      <td>9</td>\n",
       "      <td>14597.5</td>\n",
       "    </tr>\n",
       "    <tr>\n",
       "      <th>3</th>\n",
       "      <td>472808</td>\n",
       "      <td>42</td>\n",
       "      <td>3</td>\n",
       "      <td>9520.0</td>\n",
       "    </tr>\n",
       "    <tr>\n",
       "      <th>4</th>\n",
       "      <td>472810</td>\n",
       "      <td>110</td>\n",
       "      <td>1</td>\n",
       "      <td>490.0</td>\n",
       "    </tr>\n",
       "  </tbody>\n",
       "</table>\n",
       "</div>"
      ],
      "text/plain": [
       "   contact_id  recency  frequency  monetary\n",
       "0      472800       38          4    8903.0\n",
       "1      472802      126          1    3770.0\n",
       "2      472807        9          9   14597.5\n",
       "3      472808       42          3    9520.0\n",
       "4      472810      110          1     490.0"
      ]
     },
     "execution_count": 20,
     "metadata": {},
     "output_type": "execute_result"
    }
   ],
   "source": [
    "rfm_base.head()"
   ]
  },
  {
   "cell_type": "markdown",
   "metadata": {},
   "source": [
    "## Сегментация"
   ]
  },
  {
   "cell_type": "markdown",
   "metadata": {},
   "source": [
    "Создадим словарь для квантилей по каждому из измерений."
   ]
  },
  {
   "cell_type": "code",
   "execution_count": 21,
   "metadata": {
    "ExecuteTime": {
     "end_time": "2024-01-15T13:13:08.679206Z",
     "start_time": "2024-01-15T13:13:08.648196Z"
    }
   },
   "outputs": [
    {
     "data": {
      "text/plain": [
       "{'recency': {0.2: 22.0, 0.4: 56.0, 0.6: 100.0, 0.8: 164.0},\n",
       " 'frequency': {0.2: 1.0, 0.4: 1.0, 0.6: 2.0, 0.8: 3.0},\n",
       " 'monetary': {0.2: 1804.0, 0.4: 3025.0, 0.6: 5105.0, 0.8: 9658.0}}"
      ]
     },
     "execution_count": 21,
     "metadata": {},
     "output_type": "execute_result"
    }
   ],
   "source": [
    "quant_dict = get_quantile_dict(rfm_base)\n",
    "quant_dict"
   ]
  },
  {
   "cell_type": "markdown",
   "metadata": {},
   "source": [
    "С использованием функций присвоим код по каждому измерению. "
   ]
  },
  {
   "cell_type": "code",
   "execution_count": 22,
   "metadata": {
    "ExecuteTime": {
     "end_time": "2024-01-15T13:13:09.545097Z",
     "start_time": "2024-01-15T13:13:08.681163Z"
    }
   },
   "outputs": [],
   "source": [
    "rfm_base['R'] = rfm_base['recency'].apply(get_r_score)\n",
    "rfm_base['F'] = rfm_base['frequency'].apply(get_f_score)\n",
    "rfm_base['M'] = rfm_base['monetary'].apply(get_m_score)\n",
    "\n",
    "rfm_base['RFM'] = rfm_base['R'].astype(str) + rfm_base['F'].astype(str) + rfm_base['M'].astype(str)\n",
    "\n",
    "rfm_base['rfm_macrosegment'] = rfm_base['RFM'].apply(get_rfm_macro)\n",
    "rfm_base['rfm_segment'] = rfm_base['RFM'].apply(get_rfm_segment)"
   ]
  },
  {
   "cell_type": "code",
   "execution_count": 23,
   "metadata": {
    "ExecuteTime": {
     "end_time": "2024-01-15T13:13:09.592457Z",
     "start_time": "2024-01-15T13:13:09.546900Z"
    }
   },
   "outputs": [],
   "source": [
    "rfm_base['segment'] = rfm_base['rfm_macrosegment'] + '.' + rfm_base['rfm_segment']"
   ]
  },
  {
   "cell_type": "code",
   "execution_count": 24,
   "metadata": {
    "ExecuteTime": {
     "end_time": "2024-01-15T13:13:09.624414Z",
     "start_time": "2024-01-15T13:13:09.594258Z"
    }
   },
   "outputs": [
    {
     "data": {
      "text/plain": [
       "Отток.Случайные               61627\n",
       "Активные.ВИП                  28152\n",
       "Отток.Уходящие хорошие        14573\n",
       "Новые.Случайные               14306\n",
       "Активные.Хорошие              13859\n",
       "Отток.Отток обычные           10755\n",
       "Отток.Потерянные ВИП           7962\n",
       "Новые.Новички                  7600\n",
       "Активные.Хорошие экономные     3592\n",
       "Отток.Отток экономные          3305\n",
       "Отток.Уходящие экономные       2320\n",
       "Name: segment, dtype: int64"
      ]
     },
     "execution_count": 24,
     "metadata": {},
     "output_type": "execute_result"
    }
   ],
   "source": [
    "rfm_base['segment'].value_counts()"
   ]
  },
  {
   "cell_type": "markdown",
   "metadata": {
    "id": "CwoFTQ_i7Azs"
   },
   "source": [
    "## Визуализация сегментов"
   ]
  },
  {
   "cell_type": "code",
   "execution_count": 25,
   "metadata": {
    "ExecuteTime": {
     "end_time": "2024-01-15T13:13:11.686647Z",
     "start_time": "2024-01-15T13:13:09.625303Z"
    }
   },
   "outputs": [
    {
     "data": {
      "image/png": "[encoded data removed]",
      "text/plain": [
       "<Figure size 720x288 with 2 Axes>"
      ]
     },
     "metadata": {
      "needs_background": "light"
     },
     "output_type": "display_data"
    },
    {
     "data": {
      "image/png": "[encoded data removed]",
      "text/plain": [
       "<Figure size 720x720 with 25 Axes>"
      ]
     },
     "metadata": {
      "needs_background": "light"
     },
     "output_type": "display_data"
    }
   ],
   "source": [
    "get_rfm_plot(rfm_base)"
   ]
  },
  {
   "cell_type": "code",
   "execution_count": 26,
   "metadata": {
    "ExecuteTime": {
     "end_time": "2024-01-15T13:13:11.844038Z",
     "start_time": "2024-01-15T13:13:11.687643Z"
    },
    "id": "JRbb1NGX7Azs",
    "outputId": "4e2c695c-3370-4448-823c-2cdcaf51ee6b"
   },
   "outputs": [
    {
     "data": {
      "image/png": "[encoded data removed]",
      "text/plain": [
       "<Figure size 432x288 with 1 Axes>"
      ]
     },
     "metadata": {
      "needs_background": "light"
     },
     "output_type": "display_data"
    }
   ],
   "source": [
    "get_segment_barchart(rfm_base)"
   ]
  },
  {
   "cell_type": "markdown",
   "metadata": {
    "id": "zESuvJsT7Azt"
   },
   "source": [
    "## Выводы и рекомендации"
   ]
  },
  {
   "cell_type": "markdown",
   "metadata": {
    "ExecuteTime": {
     "end_time": "2024-01-15T12:36:54.596741Z",
     "start_time": "2024-01-15T12:36:54.585771Z"
    }
   },
   "source": [
    "__Отток.Случайные__"
   ]
  },
  {
   "cell_type": "markdown",
   "metadata": {
    "id": "mdrlHtg37Azu"
   },
   "source": [
    "- составляют треть клиентской базы в нашем случае, что плохо\n",
    "- в этом сегменте находятся клиенты, которые делали заказы разово и более не возвращались"
   ]
  },
  {
   "cell_type": "markdown",
   "metadata": {},
   "source": [
    "Рекомендуется делать предложения для стимулирования повторного заказа, например, скидки или подарки к заказу, чтобы заинтересовать их вернуться и стать постоянными. "
   ]
  },
  {
   "cell_type": "markdown",
   "metadata": {},
   "source": [
    "__Активные.ВИП, Активные.Хорошие__"
   ]
  },
  {
   "cell_type": "markdown",
   "metadata": {},
   "source": [
    "- составляют четверть клиентской базы в нашем случае"
   ]
  },
  {
   "cell_type": "markdown",
   "metadata": {},
   "source": [
    "`Активные.ВИП` - наиболее ценные клиенты, которые делают частые и крупные заказы.\n",
    "- Рекомендации: индивидуальные бонусы, персонализированные предложения, участие в эксклюзивных программах лояльности или VIP-мероприятия. \n",
    "- Цель: стимулировать их частые посещения и увеличение среднего чека."
   ]
  },
  {
   "cell_type": "markdown",
   "metadata": {},
   "source": [
    "`Активные.Хорошие` - также активный, но их заказы меньше по сравнению с ВИП-клиентами. \n",
    "- Рекомендуется предлагать им индивидуальные условия программы лояльности, например, бонусы за накопленные заказы, купоны на скидку или предложения \"купи больше, получи больше\". \n",
    "- Цель - увеличить средний чек и удерживать клиентов в этом сегменте."
   ]
  },
  {
   "cell_type": "markdown",
   "metadata": {},
   "source": [
    "__Новые.Новички и Новые.Случайные__"
   ]
  },
  {
   "cell_type": "markdown",
   "metadata": {},
   "source": [
    "`Новые.Новички` - это новые клиенты, которые только начали пользоваться услугами ресторана. \n",
    "- Рекомендуется привлекать их специальными предложениями для первого заказа, например, скидки на первый заказ или подарки к заказу. \n",
    "- Цель - заинтересовать их и превратить в постоянных клиентов.\n",
    "\n",
    "`Новые.Случайные` - сегмент также состоит из новых клиентов, но склонных к случайным заказам. \n",
    "- Рекомедуется делать им привлекательные предложения для повторной покупки, чтобы удержать их. \n",
    "- Цель - превратить случайных клиентов в постоянных."
   ]
  },
  {
   "cell_type": "markdown",
   "metadata": {},
   "source": [
    "__Активные.Хорошие экономные__"
   ]
  },
  {
   "cell_type": "markdown",
   "metadata": {
    "id": "PbGCoP1P7Azy"
   },
   "source": [
    "- Этот сегмент чувствителен к цене, поэтому следует делать им экономичные предложения, специальные акции и скидки на более дешевые позиции в меню, а также на комбо-наборы. \n",
    "- Цель - увеличить их частоту заказов и удерживать их в качестве постоянных клиентов."
   ]
  },
  {
   "cell_type": "markdown",
   "metadata": {},
   "source": [
    "__Отток__"
   ]
  },
  {
   "cell_type": "markdown",
   "metadata": {},
   "source": [
    "`Отток.Отток обычные` - этот сегмент включает клиентов, которые раньше были активными, но перестали делать заказы. \n",
    "- Следует провести персонализированную рекламную кампанию, направленную на возвращение клиентов. \n",
    "- Это может включать специальные акции, скидки для повторных заказов и напоминания о преимуществах заказа в ресторане.\n",
    "\n",
    "`Отток.Отток экономные` - в этом сегменте находятся клиенты, которые ушли из-за ценовых причин. \n",
    "- Стоит предложить им специальные предложения и скидки, которые позволят клиентам сэкономить при следующем заказе. \n",
    "\n",
    "`Отток.Потерянные ВИП` - этот сегмент включает клиентов, которые раньше были наиболее ценными, но перестали делать заказы. \n",
    "- Рекомендуется внедрить специальную программу для этих клиентов, включая персонализированные предложения, приглашения на эксклюзивные мероприятия и бонусы за возвращение.\n",
    "\n",
    "`Отток.Отток Случайные` - в этом сегменте находятся клиенты, которые делали заказы разово и более не возвращались. \n",
    "- Рекомендуется делать предложения для стимулирования повторного заказа, например, скидки или подарки к заказу, чтобы заинтересовать их вернуться и стать постоянными. \n",
    "\n",
    "`Отток.Уходящие хорошие` - этот сегмент включает клиентов, которые раньше были активными и приносили хороший доход, но сейчас показывают признаки ухода. \n",
    "- Рекомендуется провести дополнительный анализ и понять, что могло спровоцировать уход клиентов данного сегмента. \n",
    "- После этого можно предложить индивидуальные бонусы, персонализированные предложения, чтобы возвратить и удержать их.\n",
    "\n",
    "`Отток.Уходящие эконом` - в этом сегменте находятся клиенты, которые раньше были склонны к экономии, но сейчас показывают признаки ухода. \n",
    "- Стоит протестировать cпециальные акции и скидки, чтобы заинтересовать клиентов из этого сегмента вернуться."
   ]
  },
  {
   "cell_type": "code",
   "execution_count": null,
   "metadata": {
    "id": "K71TU--E7Azy"
   },
   "outputs": [],
   "source": []
  }
 ],
 "metadata": {
  "colab": {
   "name": "RFM_segmentation.ipynb",
   "provenance": []
  },
  "kernelspec": {
   "display_name": "Python 3 (ipykernel)",
   "language": "python",
   "name": "python3"
  },
  "language_info": {
   "codemirror_mode": {
    "name": "ipython",
    "version": 3
   },
   "file_extension": ".py",
   "mimetype": "text/x-python",
   "name": "python",
   "nbconvert_exporter": "python",
   "pygments_lexer": "ipython3",
   "version": "3.9.12"
  },
  "toc": {
   "base_numbering": 1,
   "nav_menu": {},
   "number_sections": true,
   "sideBar": true,
   "skip_h1_title": true,
   "title_cell": "Table of Contents",
   "title_sidebar": "Contents",
   "toc_cell": true,
   "toc_position": {},
   "toc_section_display": true,
   "toc_window_display": false
  }
 },
 "nbformat": 4,
 "nbformat_minor": 1
}
